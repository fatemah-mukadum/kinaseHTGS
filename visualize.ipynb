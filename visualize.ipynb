{
 "cells": [
  {
   "cell_type": "code",
   "execution_count": 3,
   "metadata": {},
   "outputs": [],
   "source": [
    "from rdkit import Chem\n",
    "from rdkit.Chem import AllChem\n",
    "from rdkit import RDConfig\n",
    "import os\n",
    "from rdkit.Chem.Draw import IPythonConsole\n",
    "from rdkit.Chem import Draw\n",
    "from rdkit.Chem import rdDepictor"
   ]
  },
  {
   "cell_type": "code",
   "execution_count": 4,
   "metadata": {},
   "outputs": [],
   "source": [
    "from rdkit.Chem import PyMol\n",
    "import py3Dmol\n",
    "from rdkit.Chem import rdDistGeom\n",
    "from rdkit.Chem import rdMolAlign"
   ]
  },
  {
   "cell_type": "code",
   "execution_count": 5,
   "metadata": {},
   "outputs": [],
   "source": [
    "mol = Chem.MolFromSmiles(\"CC(N)C(O)=O\")"
   ]
  },
  {
   "cell_type": "code",
   "execution_count": 6,
   "metadata": {},
   "outputs": [],
   "source": [
    "mol2 = Chem.AddHs(mol)\n",
    "params = AllChem.ETKDGv3()\n",
    "cids = AllChem.EmbedMultipleConfs(mol2, 25, params)\n",
    "res = AllChem.MMFFOptimizeMoleculeConfs(mol2)"
   ]
  },
  {
   "cell_type": "code",
   "execution_count": 7,
   "metadata": {},
   "outputs": [
    {
     "name": "stdout",
     "output_type": "stream",
     "text": [
      "25\n"
     ]
    }
   ],
   "source": [
    "print(mol2.GetNumConformers())"
   ]
  },
  {
   "cell_type": "code",
   "execution_count": 8,
   "metadata": {},
   "outputs": [
    {
     "data": {
      "application/3dmoljs_load.v0": "<div id=\"3dmolviewer_17365496973855262\"  style=\"position: relative; width: 400px; height: 400px;\">\n        <p id=\"3dmolwarning_17365496973855262\" style=\"background-color:#ffcccc;color:black\">3Dmol.js failed to load for some reason.  Please check your browser console for error messages.<br></p>\n        </div>\n<script>\n\nvar loadScriptAsync = function(uri){\n  return new Promise((resolve, reject) => {\n    //this is to ignore the existence of requirejs amd\n    var savedexports, savedmodule;\n    if (typeof exports !== 'undefined') savedexports = exports;\n    else exports = {}\n    if (typeof module !== 'undefined') savedmodule = module;\n    else module = {}\n\n    var tag = document.createElement('script');\n    tag.src = uri;\n    tag.async = true;\n    tag.onload = () => {\n        exports = savedexports;\n        module = savedmodule;\n        resolve();\n    };\n  var firstScriptTag = document.getElementsByTagName('script')[0];\n  firstScriptTag.parentNode.insertBefore(tag, firstScriptTag);\n});\n};\n\nif(typeof $3Dmolpromise === 'undefined') {\n$3Dmolpromise = null;\n  $3Dmolpromise = loadScriptAsync('https://cdnjs.cloudflare.com/ajax/libs/3Dmol/2.4.2/3Dmol-min.js');\n}\n\nvar viewer_17365496973855262 = null;\nvar warn = document.getElementById(\"3dmolwarning_17365496973855262\");\nif(warn) {\n    warn.parentNode.removeChild(warn);\n}\n$3Dmolpromise.then(function() {\nviewer_17365496973855262 = $3Dmol.createViewer(document.getElementById(\"3dmolviewer_17365496973855262\"),{backgroundColor:\"white\"});\nviewer_17365496973855262.zoomTo();\n\tviewer_17365496973855262.removeAllModels();\n\tviewer_17365496973855262.addModel(\"\\n     RDKit          3D\\n\\n 13 12  0  0  0  0  0  0  0  0999 V2000\\n   -1.4165   -0.5745   -0.3167 C   0  0  0  0  0  0  0  0  0  0  0  0\\n   -0.2282    0.1636    0.2826 C   0  0  0  0  0  0  0  0  0  0  0  0\\n   -0.0667    1.4610   -0.4057 N   0  0  0  0  0  0  0  0  0  0  0  0\\n    1.0543   -0.6695    0.1698 C   0  0  0  0  0  0  0  0  0  0  0  0\\n    2.1768    0.0806    0.2859 O   0  0  0  0  0  0  0  0  0  0  0  0\\n    1.1410   -1.8815    0.0550 O   0  0  0  0  0  0  0  0  0  0  0  0\\n   -2.3355    0.0149   -0.2269 H   0  0  0  0  0  0  0  0  0  0  0  0\\n   -1.5807   -1.5276    0.1981 H   0  0  0  0  0  0  0  0  0  0  0  0\\n   -1.2558   -0.7998   -1.3773 H   0  0  0  0  0  0  0  0  0  0  0  0\\n   -0.4005    0.3423    1.3500 H   0  0  0  0  0  0  0  0  0  0  0  0\\n    0.8176    1.8694   -0.0926 H   0  0  0  0  0  0  0  0  0  0  0  0\\n   -0.8045    2.0953   -0.1060 H   0  0  0  0  0  0  0  0  0  0  0  0\\n    2.8986   -0.5742    0.1839 H   0  0  0  0  0  0  0  0  0  0  0  0\\n  1  2  1  0\\n  2  3  1  0\\n  2  4  1  0\\n  4  5  1  0\\n  4  6  2  0\\n  1  7  1  0\\n  1  8  1  0\\n  1  9  1  0\\n  2 10  1  0\\n  3 11  1  0\\n  3 12  1  0\\n  5 13  1  0\\nM  END\\n\",\"sdf\");\n\tviewer_17365496973855262.setStyle({\"stick\": {}});\n\tviewer_17365496973855262.setBackgroundColor(\"0xeeeeee\");\n\tviewer_17365496973855262.zoomTo();\nviewer_17365496973855262.render();\n});\n</script>",
      "text/html": [
       "<div id=\"3dmolviewer_17365496973855262\"  style=\"position: relative; width: 400px; height: 400px;\">\n",
       "        <p id=\"3dmolwarning_17365496973855262\" style=\"background-color:#ffcccc;color:black\">3Dmol.js failed to load for some reason.  Please check your browser console for error messages.<br></p>\n",
       "        </div>\n",
       "<script>\n",
       "\n",
       "var loadScriptAsync = function(uri){\n",
       "  return new Promise((resolve, reject) => {\n",
       "    //this is to ignore the existence of requirejs amd\n",
       "    var savedexports, savedmodule;\n",
       "    if (typeof exports !== 'undefined') savedexports = exports;\n",
       "    else exports = {}\n",
       "    if (typeof module !== 'undefined') savedmodule = module;\n",
       "    else module = {}\n",
       "\n",
       "    var tag = document.createElement('script');\n",
       "    tag.src = uri;\n",
       "    tag.async = true;\n",
       "    tag.onload = () => {\n",
       "        exports = savedexports;\n",
       "        module = savedmodule;\n",
       "        resolve();\n",
       "    };\n",
       "  var firstScriptTag = document.getElementsByTagName('script')[0];\n",
       "  firstScriptTag.parentNode.insertBefore(tag, firstScriptTag);\n",
       "});\n",
       "};\n",
       "\n",
       "if(typeof $3Dmolpromise === 'undefined') {\n",
       "$3Dmolpromise = null;\n",
       "  $3Dmolpromise = loadScriptAsync('https://cdnjs.cloudflare.com/ajax/libs/3Dmol/2.4.2/3Dmol-min.js');\n",
       "}\n",
       "\n",
       "var viewer_17365496973855262 = null;\n",
       "var warn = document.getElementById(\"3dmolwarning_17365496973855262\");\n",
       "if(warn) {\n",
       "    warn.parentNode.removeChild(warn);\n",
       "}\n",
       "$3Dmolpromise.then(function() {\n",
       "viewer_17365496973855262 = $3Dmol.createViewer(document.getElementById(\"3dmolviewer_17365496973855262\"),{backgroundColor:\"white\"});\n",
       "viewer_17365496973855262.zoomTo();\n",
       "\tviewer_17365496973855262.removeAllModels();\n",
       "\tviewer_17365496973855262.addModel(\"\\n     RDKit          3D\\n\\n 13 12  0  0  0  0  0  0  0  0999 V2000\\n   -1.4165   -0.5745   -0.3167 C   0  0  0  0  0  0  0  0  0  0  0  0\\n   -0.2282    0.1636    0.2826 C   0  0  0  0  0  0  0  0  0  0  0  0\\n   -0.0667    1.4610   -0.4057 N   0  0  0  0  0  0  0  0  0  0  0  0\\n    1.0543   -0.6695    0.1698 C   0  0  0  0  0  0  0  0  0  0  0  0\\n    2.1768    0.0806    0.2859 O   0  0  0  0  0  0  0  0  0  0  0  0\\n    1.1410   -1.8815    0.0550 O   0  0  0  0  0  0  0  0  0  0  0  0\\n   -2.3355    0.0149   -0.2269 H   0  0  0  0  0  0  0  0  0  0  0  0\\n   -1.5807   -1.5276    0.1981 H   0  0  0  0  0  0  0  0  0  0  0  0\\n   -1.2558   -0.7998   -1.3773 H   0  0  0  0  0  0  0  0  0  0  0  0\\n   -0.4005    0.3423    1.3500 H   0  0  0  0  0  0  0  0  0  0  0  0\\n    0.8176    1.8694   -0.0926 H   0  0  0  0  0  0  0  0  0  0  0  0\\n   -0.8045    2.0953   -0.1060 H   0  0  0  0  0  0  0  0  0  0  0  0\\n    2.8986   -0.5742    0.1839 H   0  0  0  0  0  0  0  0  0  0  0  0\\n  1  2  1  0\\n  2  3  1  0\\n  2  4  1  0\\n  4  5  1  0\\n  4  6  2  0\\n  1  7  1  0\\n  1  8  1  0\\n  1  9  1  0\\n  2 10  1  0\\n  3 11  1  0\\n  3 12  1  0\\n  5 13  1  0\\nM  END\\n\",\"sdf\");\n",
       "\tviewer_17365496973855262.setStyle({\"stick\": {}});\n",
       "\tviewer_17365496973855262.setBackgroundColor(\"0xeeeeee\");\n",
       "\tviewer_17365496973855262.zoomTo();\n",
       "viewer_17365496973855262.render();\n",
       "});\n",
       "</script>"
      ]
     },
     "metadata": {},
     "output_type": "display_data"
    },
    {
     "data": {
      "application/3dmoljs_load.v0": "<div id=\"3dmolviewer_1736549697388253\"  style=\"position: relative; width: 400px; height: 400px;\">\n        <p id=\"3dmolwarning_1736549697388253\" style=\"background-color:#ffcccc;color:black\">3Dmol.js failed to load for some reason.  Please check your browser console for error messages.<br></p>\n        </div>\n<script>\n\nvar loadScriptAsync = function(uri){\n  return new Promise((resolve, reject) => {\n    //this is to ignore the existence of requirejs amd\n    var savedexports, savedmodule;\n    if (typeof exports !== 'undefined') savedexports = exports;\n    else exports = {}\n    if (typeof module !== 'undefined') savedmodule = module;\n    else module = {}\n\n    var tag = document.createElement('script');\n    tag.src = uri;\n    tag.async = true;\n    tag.onload = () => {\n        exports = savedexports;\n        module = savedmodule;\n        resolve();\n    };\n  var firstScriptTag = document.getElementsByTagName('script')[0];\n  firstScriptTag.parentNode.insertBefore(tag, firstScriptTag);\n});\n};\n\nif(typeof $3Dmolpromise === 'undefined') {\n$3Dmolpromise = null;\n  $3Dmolpromise = loadScriptAsync('https://cdnjs.cloudflare.com/ajax/libs/3Dmol/2.4.2/3Dmol-min.js');\n}\n\nvar viewer_1736549697388253 = null;\nvar warn = document.getElementById(\"3dmolwarning_1736549697388253\");\nif(warn) {\n    warn.parentNode.removeChild(warn);\n}\n$3Dmolpromise.then(function() {\nviewer_1736549697388253 = $3Dmol.createViewer(document.getElementById(\"3dmolviewer_1736549697388253\"),{backgroundColor:\"white\"});\nviewer_1736549697388253.zoomTo();\n\tviewer_1736549697388253.removeAllModels();\n\tviewer_1736549697388253.addModel(\"\\n     RDKit          3D\\n\\n 13 12  0  0  0  0  0  0  0  0999 V2000\\n   -1.0205   -0.8425    0.4654 C   0  0  0  0  0  0  0  0  0  0  0  0\\n   -0.2293   -0.0492   -0.5658 C   0  0  0  0  0  0  0  0  0  0  0  0\\n   -0.6094    1.3791   -0.5366 N   0  0  0  0  0  0  0  0  0  0  0  0\\n    1.2672   -0.2227   -0.2958 C   0  0  0  0  0  0  0  0  0  0  0  0\\n    1.7793    0.7149    0.5352 O   0  0  0  0  0  0  0  0  0  0  0  0\\n    1.9720   -1.1339   -0.7011 O   0  0  0  0  0  0  0  0  0  0  0  0\\n   -0.7350   -1.9001    0.4423 H   0  0  0  0  0  0  0  0  0  0  0  0\\n   -0.8350   -0.4771    1.4820 H   0  0  0  0  0  0  0  0  0  0  0  0\\n   -2.0966   -0.7808    0.2711 H   0  0  0  0  0  0  0  0  0  0  0  0\\n   -0.4319   -0.4275   -1.5733 H   0  0  0  0  0  0  0  0  0  0  0  0\\n   -1.6153    1.4665   -0.4082 H   0  0  0  0  0  0  0  0  0  0  0  0\\n   -0.1721    1.8006    0.2872 H   0  0  0  0  0  0  0  0  0  0  0  0\\n    2.7266    0.4726    0.5974 H   0  0  0  0  0  0  0  0  0  0  0  0\\n  1  2  1  0\\n  2  3  1  0\\n  2  4  1  0\\n  4  5  1  0\\n  4  6  2  0\\n  1  7  1  0\\n  1  8  1  0\\n  1  9  1  0\\n  2 10  1  0\\n  3 11  1  0\\n  3 12  1  0\\n  5 13  1  0\\nM  END\\n\",\"sdf\");\n\tviewer_1736549697388253.setStyle({\"stick\": {}});\n\tviewer_1736549697388253.setBackgroundColor(\"0xeeeeee\");\n\tviewer_1736549697388253.zoomTo();\nviewer_1736549697388253.render();\n});\n</script>",
      "text/html": [
       "<div id=\"3dmolviewer_1736549697388253\"  style=\"position: relative; width: 400px; height: 400px;\">\n",
       "        <p id=\"3dmolwarning_1736549697388253\" style=\"background-color:#ffcccc;color:black\">3Dmol.js failed to load for some reason.  Please check your browser console for error messages.<br></p>\n",
       "        </div>\n",
       "<script>\n",
       "\n",
       "var loadScriptAsync = function(uri){\n",
       "  return new Promise((resolve, reject) => {\n",
       "    //this is to ignore the existence of requirejs amd\n",
       "    var savedexports, savedmodule;\n",
       "    if (typeof exports !== 'undefined') savedexports = exports;\n",
       "    else exports = {}\n",
       "    if (typeof module !== 'undefined') savedmodule = module;\n",
       "    else module = {}\n",
       "\n",
       "    var tag = document.createElement('script');\n",
       "    tag.src = uri;\n",
       "    tag.async = true;\n",
       "    tag.onload = () => {\n",
       "        exports = savedexports;\n",
       "        module = savedmodule;\n",
       "        resolve();\n",
       "    };\n",
       "  var firstScriptTag = document.getElementsByTagName('script')[0];\n",
       "  firstScriptTag.parentNode.insertBefore(tag, firstScriptTag);\n",
       "});\n",
       "};\n",
       "\n",
       "if(typeof $3Dmolpromise === 'undefined') {\n",
       "$3Dmolpromise = null;\n",
       "  $3Dmolpromise = loadScriptAsync('https://cdnjs.cloudflare.com/ajax/libs/3Dmol/2.4.2/3Dmol-min.js');\n",
       "}\n",
       "\n",
       "var viewer_1736549697388253 = null;\n",
       "var warn = document.getElementById(\"3dmolwarning_1736549697388253\");\n",
       "if(warn) {\n",
       "    warn.parentNode.removeChild(warn);\n",
       "}\n",
       "$3Dmolpromise.then(function() {\n",
       "viewer_1736549697388253 = $3Dmol.createViewer(document.getElementById(\"3dmolviewer_1736549697388253\"),{backgroundColor:\"white\"});\n",
       "viewer_1736549697388253.zoomTo();\n",
       "\tviewer_1736549697388253.removeAllModels();\n",
       "\tviewer_1736549697388253.addModel(\"\\n     RDKit          3D\\n\\n 13 12  0  0  0  0  0  0  0  0999 V2000\\n   -1.0205   -0.8425    0.4654 C   0  0  0  0  0  0  0  0  0  0  0  0\\n   -0.2293   -0.0492   -0.5658 C   0  0  0  0  0  0  0  0  0  0  0  0\\n   -0.6094    1.3791   -0.5366 N   0  0  0  0  0  0  0  0  0  0  0  0\\n    1.2672   -0.2227   -0.2958 C   0  0  0  0  0  0  0  0  0  0  0  0\\n    1.7793    0.7149    0.5352 O   0  0  0  0  0  0  0  0  0  0  0  0\\n    1.9720   -1.1339   -0.7011 O   0  0  0  0  0  0  0  0  0  0  0  0\\n   -0.7350   -1.9001    0.4423 H   0  0  0  0  0  0  0  0  0  0  0  0\\n   -0.8350   -0.4771    1.4820 H   0  0  0  0  0  0  0  0  0  0  0  0\\n   -2.0966   -0.7808    0.2711 H   0  0  0  0  0  0  0  0  0  0  0  0\\n   -0.4319   -0.4275   -1.5733 H   0  0  0  0  0  0  0  0  0  0  0  0\\n   -1.6153    1.4665   -0.4082 H   0  0  0  0  0  0  0  0  0  0  0  0\\n   -0.1721    1.8006    0.2872 H   0  0  0  0  0  0  0  0  0  0  0  0\\n    2.7266    0.4726    0.5974 H   0  0  0  0  0  0  0  0  0  0  0  0\\n  1  2  1  0\\n  2  3  1  0\\n  2  4  1  0\\n  4  5  1  0\\n  4  6  2  0\\n  1  7  1  0\\n  1  8  1  0\\n  1  9  1  0\\n  2 10  1  0\\n  3 11  1  0\\n  3 12  1  0\\n  5 13  1  0\\nM  END\\n\",\"sdf\");\n",
       "\tviewer_1736549697388253.setStyle({\"stick\": {}});\n",
       "\tviewer_1736549697388253.setBackgroundColor(\"0xeeeeee\");\n",
       "\tviewer_1736549697388253.zoomTo();\n",
       "viewer_1736549697388253.render();\n",
       "});\n",
       "</script>"
      ]
     },
     "metadata": {},
     "output_type": "display_data"
    }
   ],
   "source": [
    "IPythonConsole.drawMol3D(mol2, confId=2)\n",
    "IPythonConsole.drawMol3D(mol2, confId=3)"
   ]
  },
  {
   "cell_type": "code",
   "execution_count": 9,
   "metadata": {},
   "outputs": [],
   "source": [
    "def drawit(m, cids=[-1], p=None, removeHs=False, s=True,\n",
    "           colors=('grayCarbon','grayCarbon','grayCarbon','magentaCarbon','whiteCarbon','purpleCarbon')):\n",
    "        if removeHs:\n",
    "            m = Chem.RemoveHs(m)\n",
    "        if p is None:\n",
    "            p = py3Dmol.view(width=400, height=400)\n",
    "        p.removeAllModels()\n",
    "        if s==False:\n",
    "            for i,cid in enumerate(cids):\n",
    "                IPythonConsole.addMolToView(m,p,confId=cid)\n",
    "                #p.addSurface(py3Dmol.VDW,{'opacity':0.5,'model':10,'color':'gray'})\n",
    "                IPythonConsole.drawOptions.highlightRadius = 0.5\n",
    "            for i,cid in enumerate(cids):\n",
    "                #print(cid)\n",
    "                IPythonConsole.addMolToView(m,p,confId=1)\n",
    "                #p.addSurface(py3Dmol.VDW,{'opacity':0.3,'model':10,'color':'gray'})\n",
    "        for i,cid in enumerate(cids):\n",
    "            p.setStyle({'model':i,},\n",
    "                            {'stick':{'colorscheme':colors[i%len(colors)]}})\n",
    "        if s:\n",
    "            print(i)\n",
    "        p.zoomTo()\n",
    "        return p.show()"
   ]
  },
  {
   "cell_type": "code",
   "execution_count": 10,
   "metadata": {},
   "outputs": [
    {
     "data": {
      "application/3dmoljs_load.v0": "<div id=\"3dmolviewer_17365497098240874\"  style=\"position: relative; width: 400px; height: 400px;\">\n        <p id=\"3dmolwarning_17365497098240874\" style=\"background-color:#ffcccc;color:black\">3Dmol.js failed to load for some reason.  Please check your browser console for error messages.<br></p>\n        </div>\n<script>\n\nvar loadScriptAsync = function(uri){\n  return new Promise((resolve, reject) => {\n    //this is to ignore the existence of requirejs amd\n    var savedexports, savedmodule;\n    if (typeof exports !== 'undefined') savedexports = exports;\n    else exports = {}\n    if (typeof module !== 'undefined') savedmodule = module;\n    else module = {}\n\n    var tag = document.createElement('script');\n    tag.src = uri;\n    tag.async = true;\n    tag.onload = () => {\n        exports = savedexports;\n        module = savedmodule;\n        resolve();\n    };\n  var firstScriptTag = document.getElementsByTagName('script')[0];\n  firstScriptTag.parentNode.insertBefore(tag, firstScriptTag);\n});\n};\n\nif(typeof $3Dmolpromise === 'undefined') {\n$3Dmolpromise = null;\n  $3Dmolpromise = loadScriptAsync('https://cdnjs.cloudflare.com/ajax/libs/3Dmol/2.4.2/3Dmol-min.js');\n}\n\nvar viewer_17365497098240874 = null;\nvar warn = document.getElementById(\"3dmolwarning_17365497098240874\");\nif(warn) {\n    warn.parentNode.removeChild(warn);\n}\n$3Dmolpromise.then(function() {\nviewer_17365497098240874 = $3Dmol.createViewer(document.getElementById(\"3dmolviewer_17365497098240874\"),{backgroundColor:\"white\"});\nviewer_17365497098240874.zoomTo();\n\tviewer_17365497098240874.removeAllModels();\n\tviewer_17365497098240874.addModel(\"\\n     RDKit          3D\\n\\n  6  5  0  0  0  0  0  0  0  0999 V2000\\n   -1.0954    0.3514    1.0886 C   0  0  0  0  0  0  0  0  0  0  0  0\\n   -0.4389   -0.2853   -0.1292 C   0  0  0  0  0  0  0  0  0  0  0  0\\n   -0.5900    0.5804   -1.3156 N   0  0  0  0  0  0  0  0  0  0  0  0\\n    1.0443   -0.5240    0.1610 C   0  0  0  0  0  0  0  0  0  0  0  0\\n    1.2704   -1.6808    0.8171 O   0  0  0  0  0  0  0  0  0  0  0  0\\n    1.9714    0.2270   -0.1036 O   0  0  0  0  0  0  0  0  0  0  0  0\\n  1  2  1  0\\n  2  3  1  0\\n  2  4  1  0\\n  4  5  1  0\\n  4  6  2  0\\nM  END\\n\",\"sdf\");\n\tviewer_17365497098240874.setStyle({\"stick\": {}});\n\tviewer_17365497098240874.addModel(\"\\n     RDKit          3D\\n\\n  6  5  0  0  0  0  0  0  0  0999 V2000\\n   -0.9511    0.8867    0.9226 C   0  0  0  0  0  0  0  0  0  0  0  0\\n   -0.1494    0.3422   -0.2513 C   0  0  0  0  0  0  0  0  0  0  0  0\\n   -1.0189   -0.5285   -1.0765 N   0  0  0  0  0  0  0  0  0  0  0  0\\n    1.0885   -0.4170    0.2451 C   0  0  0  0  0  0  0  0  0  0  0  0\\n    1.4002   -1.4894   -0.5199 O   0  0  0  0  0  0  0  0  0  0  0  0\\n    1.7924   -0.1253    1.1984 O   0  0  0  0  0  0  0  0  0  0  0  0\\n  1  2  1  0\\n  2  3  1  0\\n  2  4  1  0\\n  4  5  1  0\\n  4  6  2  0\\nM  END\\n\",\"sdf\");\n\tviewer_17365497098240874.setStyle({\"stick\": {}});\n\tviewer_17365497098240874.addModel(\"\\n     RDKit          3D\\n\\n  6  5  0  0  0  0  0  0  0  0999 V2000\\n   -0.4760    1.4221   -0.2115 C   0  0  0  0  0  0  0  0  0  0  0  0\\n   -0.2966   -0.0787   -0.3941 C   0  0  0  0  0  0  0  0  0  0  0  0\\n   -1.4158   -0.7865    0.2682 N   0  0  0  0  0  0  0  0  0  0  0  0\\n    1.0423   -0.5451    0.1867 C   0  0  0  0  0  0  0  0  0  0  0  0\\n    2.1086    0.0365   -0.3966 O   0  0  0  0  0  0  0  0  0  0  0  0\\n    1.1993   -1.3798    1.0657 O   0  0  0  0  0  0  0  0  0  0  0  0\\n  1  2  1  0\\n  2  3  1  0\\n  2  4  1  0\\n  4  5  1  0\\n  4  6  2  0\\nM  END\\n\",\"sdf\");\n\tviewer_17365497098240874.setStyle({\"stick\": {}});\n\tviewer_17365497098240874.addModel(\"\\n     RDKit          3D\\n\\n  6  5  0  0  0  0  0  0  0  0999 V2000\\n   -0.7774    1.1979    0.6676 C   0  0  0  0  0  0  0  0  0  0  0  0\\n   -0.4626   -0.2189    0.2085 C   0  0  0  0  0  0  0  0  0  0  0  0\\n   -0.9495   -0.4041   -1.1785 N   0  0  0  0  0  0  0  0  0  0  0  0\\n    1.0428   -0.4990    0.3122 C   0  0  0  0  0  0  0  0  0  0  0  0\\n    1.5074   -1.2975   -0.6772 O   0  0  0  0  0  0  0  0  0  0  0  0\\n    1.8011   -0.1098    1.1856 O   0  0  0  0  0  0  0  0  0  0  0  0\\n  1  2  1  0\\n  2  3  1  0\\n  2  4  1  0\\n  4  5  1  0\\n  4  6  2  0\\nM  END\\n\",\"sdf\");\n\tviewer_17365497098240874.setStyle({\"stick\": {}});\n\tviewer_17365497098240874.addModel(\"\\n     RDKit          3D\\n\\n  6  5  0  0  0  0  0  0  0  0999 V2000\\n   -1.0954    0.3514    1.0886 C   0  0  0  0  0  0  0  0  0  0  0  0\\n   -0.4389   -0.2853   -0.1292 C   0  0  0  0  0  0  0  0  0  0  0  0\\n   -0.5900    0.5804   -1.3156 N   0  0  0  0  0  0  0  0  0  0  0  0\\n    1.0443   -0.5240    0.1610 C   0  0  0  0  0  0  0  0  0  0  0  0\\n    1.2704   -1.6808    0.8171 O   0  0  0  0  0  0  0  0  0  0  0  0\\n    1.9714    0.2270   -0.1036 O   0  0  0  0  0  0  0  0  0  0  0  0\\n  1  2  1  0\\n  2  3  1  0\\n  2  4  1  0\\n  4  5  1  0\\n  4  6  2  0\\nM  END\\n\",\"sdf\");\n\tviewer_17365497098240874.setStyle({\"stick\": {}});\n\tviewer_17365497098240874.addModel(\"\\n     RDKit          3D\\n\\n  6  5  0  0  0  0  0  0  0  0999 V2000\\n   -1.0954    0.3514    1.0886 C   0  0  0  0  0  0  0  0  0  0  0  0\\n   -0.4389   -0.2853   -0.1292 C   0  0  0  0  0  0  0  0  0  0  0  0\\n   -0.5900    0.5804   -1.3156 N   0  0  0  0  0  0  0  0  0  0  0  0\\n    1.0443   -0.5240    0.1610 C   0  0  0  0  0  0  0  0  0  0  0  0\\n    1.2704   -1.6808    0.8171 O   0  0  0  0  0  0  0  0  0  0  0  0\\n    1.9714    0.2270   -0.1036 O   0  0  0  0  0  0  0  0  0  0  0  0\\n  1  2  1  0\\n  2  3  1  0\\n  2  4  1  0\\n  4  5  1  0\\n  4  6  2  0\\nM  END\\n\",\"sdf\");\n\tviewer_17365497098240874.setStyle({\"stick\": {}});\n\tviewer_17365497098240874.addModel(\"\\n     RDKit          3D\\n\\n  6  5  0  0  0  0  0  0  0  0999 V2000\\n   -1.0954    0.3514    1.0886 C   0  0  0  0  0  0  0  0  0  0  0  0\\n   -0.4389   -0.2853   -0.1292 C   0  0  0  0  0  0  0  0  0  0  0  0\\n   -0.5900    0.5804   -1.3156 N   0  0  0  0  0  0  0  0  0  0  0  0\\n    1.0443   -0.5240    0.1610 C   0  0  0  0  0  0  0  0  0  0  0  0\\n    1.2704   -1.6808    0.8171 O   0  0  0  0  0  0  0  0  0  0  0  0\\n    1.9714    0.2270   -0.1036 O   0  0  0  0  0  0  0  0  0  0  0  0\\n  1  2  1  0\\n  2  3  1  0\\n  2  4  1  0\\n  4  5  1  0\\n  4  6  2  0\\nM  END\\n\",\"sdf\");\n\tviewer_17365497098240874.setStyle({\"stick\": {}});\n\tviewer_17365497098240874.addModel(\"\\n     RDKit          3D\\n\\n  6  5  0  0  0  0  0  0  0  0999 V2000\\n   -1.0954    0.3514    1.0886 C   0  0  0  0  0  0  0  0  0  0  0  0\\n   -0.4389   -0.2853   -0.1292 C   0  0  0  0  0  0  0  0  0  0  0  0\\n   -0.5900    0.5804   -1.3156 N   0  0  0  0  0  0  0  0  0  0  0  0\\n    1.0443   -0.5240    0.1610 C   0  0  0  0  0  0  0  0  0  0  0  0\\n    1.2704   -1.6808    0.8171 O   0  0  0  0  0  0  0  0  0  0  0  0\\n    1.9714    0.2270   -0.1036 O   0  0  0  0  0  0  0  0  0  0  0  0\\n  1  2  1  0\\n  2  3  1  0\\n  2  4  1  0\\n  4  5  1  0\\n  4  6  2  0\\nM  END\\n\",\"sdf\");\n\tviewer_17365497098240874.setStyle({\"stick\": {}});\n\tviewer_17365497098240874.setStyle({\"model\": 0},{\"stick\": {\"colorscheme\": \"grayCarbon\"}});\n\tviewer_17365497098240874.setStyle({\"model\": 1},{\"stick\": {\"colorscheme\": \"grayCarbon\"}});\n\tviewer_17365497098240874.setStyle({\"model\": 2},{\"stick\": {\"colorscheme\": \"grayCarbon\"}});\n\tviewer_17365497098240874.setStyle({\"model\": 3},{\"stick\": {\"colorscheme\": \"magentaCarbon\"}});\n\tviewer_17365497098240874.zoomTo();\nviewer_17365497098240874.render();\n});\n</script>",
      "text/html": [
       "<div id=\"3dmolviewer_17365497098240874\"  style=\"position: relative; width: 400px; height: 400px;\">\n",
       "        <p id=\"3dmolwarning_17365497098240874\" style=\"background-color:#ffcccc;color:black\">3Dmol.js failed to load for some reason.  Please check your browser console for error messages.<br></p>\n",
       "        </div>\n",
       "<script>\n",
       "\n",
       "var loadScriptAsync = function(uri){\n",
       "  return new Promise((resolve, reject) => {\n",
       "    //this is to ignore the existence of requirejs amd\n",
       "    var savedexports, savedmodule;\n",
       "    if (typeof exports !== 'undefined') savedexports = exports;\n",
       "    else exports = {}\n",
       "    if (typeof module !== 'undefined') savedmodule = module;\n",
       "    else module = {}\n",
       "\n",
       "    var tag = document.createElement('script');\n",
       "    tag.src = uri;\n",
       "    tag.async = true;\n",
       "    tag.onload = () => {\n",
       "        exports = savedexports;\n",
       "        module = savedmodule;\n",
       "        resolve();\n",
       "    };\n",
       "  var firstScriptTag = document.getElementsByTagName('script')[0];\n",
       "  firstScriptTag.parentNode.insertBefore(tag, firstScriptTag);\n",
       "});\n",
       "};\n",
       "\n",
       "if(typeof $3Dmolpromise === 'undefined') {\n",
       "$3Dmolpromise = null;\n",
       "  $3Dmolpromise = loadScriptAsync('https://cdnjs.cloudflare.com/ajax/libs/3Dmol/2.4.2/3Dmol-min.js');\n",
       "}\n",
       "\n",
       "var viewer_17365497098240874 = null;\n",
       "var warn = document.getElementById(\"3dmolwarning_17365497098240874\");\n",
       "if(warn) {\n",
       "    warn.parentNode.removeChild(warn);\n",
       "}\n",
       "$3Dmolpromise.then(function() {\n",
       "viewer_17365497098240874 = $3Dmol.createViewer(document.getElementById(\"3dmolviewer_17365497098240874\"),{backgroundColor:\"white\"});\n",
       "viewer_17365497098240874.zoomTo();\n",
       "\tviewer_17365497098240874.removeAllModels();\n",
       "\tviewer_17365497098240874.addModel(\"\\n     RDKit          3D\\n\\n  6  5  0  0  0  0  0  0  0  0999 V2000\\n   -1.0954    0.3514    1.0886 C   0  0  0  0  0  0  0  0  0  0  0  0\\n   -0.4389   -0.2853   -0.1292 C   0  0  0  0  0  0  0  0  0  0  0  0\\n   -0.5900    0.5804   -1.3156 N   0  0  0  0  0  0  0  0  0  0  0  0\\n    1.0443   -0.5240    0.1610 C   0  0  0  0  0  0  0  0  0  0  0  0\\n    1.2704   -1.6808    0.8171 O   0  0  0  0  0  0  0  0  0  0  0  0\\n    1.9714    0.2270   -0.1036 O   0  0  0  0  0  0  0  0  0  0  0  0\\n  1  2  1  0\\n  2  3  1  0\\n  2  4  1  0\\n  4  5  1  0\\n  4  6  2  0\\nM  END\\n\",\"sdf\");\n",
       "\tviewer_17365497098240874.setStyle({\"stick\": {}});\n",
       "\tviewer_17365497098240874.addModel(\"\\n     RDKit          3D\\n\\n  6  5  0  0  0  0  0  0  0  0999 V2000\\n   -0.9511    0.8867    0.9226 C   0  0  0  0  0  0  0  0  0  0  0  0\\n   -0.1494    0.3422   -0.2513 C   0  0  0  0  0  0  0  0  0  0  0  0\\n   -1.0189   -0.5285   -1.0765 N   0  0  0  0  0  0  0  0  0  0  0  0\\n    1.0885   -0.4170    0.2451 C   0  0  0  0  0  0  0  0  0  0  0  0\\n    1.4002   -1.4894   -0.5199 O   0  0  0  0  0  0  0  0  0  0  0  0\\n    1.7924   -0.1253    1.1984 O   0  0  0  0  0  0  0  0  0  0  0  0\\n  1  2  1  0\\n  2  3  1  0\\n  2  4  1  0\\n  4  5  1  0\\n  4  6  2  0\\nM  END\\n\",\"sdf\");\n",
       "\tviewer_17365497098240874.setStyle({\"stick\": {}});\n",
       "\tviewer_17365497098240874.addModel(\"\\n     RDKit          3D\\n\\n  6  5  0  0  0  0  0  0  0  0999 V2000\\n   -0.4760    1.4221   -0.2115 C   0  0  0  0  0  0  0  0  0  0  0  0\\n   -0.2966   -0.0787   -0.3941 C   0  0  0  0  0  0  0  0  0  0  0  0\\n   -1.4158   -0.7865    0.2682 N   0  0  0  0  0  0  0  0  0  0  0  0\\n    1.0423   -0.5451    0.1867 C   0  0  0  0  0  0  0  0  0  0  0  0\\n    2.1086    0.0365   -0.3966 O   0  0  0  0  0  0  0  0  0  0  0  0\\n    1.1993   -1.3798    1.0657 O   0  0  0  0  0  0  0  0  0  0  0  0\\n  1  2  1  0\\n  2  3  1  0\\n  2  4  1  0\\n  4  5  1  0\\n  4  6  2  0\\nM  END\\n\",\"sdf\");\n",
       "\tviewer_17365497098240874.setStyle({\"stick\": {}});\n",
       "\tviewer_17365497098240874.addModel(\"\\n     RDKit          3D\\n\\n  6  5  0  0  0  0  0  0  0  0999 V2000\\n   -0.7774    1.1979    0.6676 C   0  0  0  0  0  0  0  0  0  0  0  0\\n   -0.4626   -0.2189    0.2085 C   0  0  0  0  0  0  0  0  0  0  0  0\\n   -0.9495   -0.4041   -1.1785 N   0  0  0  0  0  0  0  0  0  0  0  0\\n    1.0428   -0.4990    0.3122 C   0  0  0  0  0  0  0  0  0  0  0  0\\n    1.5074   -1.2975   -0.6772 O   0  0  0  0  0  0  0  0  0  0  0  0\\n    1.8011   -0.1098    1.1856 O   0  0  0  0  0  0  0  0  0  0  0  0\\n  1  2  1  0\\n  2  3  1  0\\n  2  4  1  0\\n  4  5  1  0\\n  4  6  2  0\\nM  END\\n\",\"sdf\");\n",
       "\tviewer_17365497098240874.setStyle({\"stick\": {}});\n",
       "\tviewer_17365497098240874.addModel(\"\\n     RDKit          3D\\n\\n  6  5  0  0  0  0  0  0  0  0999 V2000\\n   -1.0954    0.3514    1.0886 C   0  0  0  0  0  0  0  0  0  0  0  0\\n   -0.4389   -0.2853   -0.1292 C   0  0  0  0  0  0  0  0  0  0  0  0\\n   -0.5900    0.5804   -1.3156 N   0  0  0  0  0  0  0  0  0  0  0  0\\n    1.0443   -0.5240    0.1610 C   0  0  0  0  0  0  0  0  0  0  0  0\\n    1.2704   -1.6808    0.8171 O   0  0  0  0  0  0  0  0  0  0  0  0\\n    1.9714    0.2270   -0.1036 O   0  0  0  0  0  0  0  0  0  0  0  0\\n  1  2  1  0\\n  2  3  1  0\\n  2  4  1  0\\n  4  5  1  0\\n  4  6  2  0\\nM  END\\n\",\"sdf\");\n",
       "\tviewer_17365497098240874.setStyle({\"stick\": {}});\n",
       "\tviewer_17365497098240874.addModel(\"\\n     RDKit          3D\\n\\n  6  5  0  0  0  0  0  0  0  0999 V2000\\n   -1.0954    0.3514    1.0886 C   0  0  0  0  0  0  0  0  0  0  0  0\\n   -0.4389   -0.2853   -0.1292 C   0  0  0  0  0  0  0  0  0  0  0  0\\n   -0.5900    0.5804   -1.3156 N   0  0  0  0  0  0  0  0  0  0  0  0\\n    1.0443   -0.5240    0.1610 C   0  0  0  0  0  0  0  0  0  0  0  0\\n    1.2704   -1.6808    0.8171 O   0  0  0  0  0  0  0  0  0  0  0  0\\n    1.9714    0.2270   -0.1036 O   0  0  0  0  0  0  0  0  0  0  0  0\\n  1  2  1  0\\n  2  3  1  0\\n  2  4  1  0\\n  4  5  1  0\\n  4  6  2  0\\nM  END\\n\",\"sdf\");\n",
       "\tviewer_17365497098240874.setStyle({\"stick\": {}});\n",
       "\tviewer_17365497098240874.addModel(\"\\n     RDKit          3D\\n\\n  6  5  0  0  0  0  0  0  0  0999 V2000\\n   -1.0954    0.3514    1.0886 C   0  0  0  0  0  0  0  0  0  0  0  0\\n   -0.4389   -0.2853   -0.1292 C   0  0  0  0  0  0  0  0  0  0  0  0\\n   -0.5900    0.5804   -1.3156 N   0  0  0  0  0  0  0  0  0  0  0  0\\n    1.0443   -0.5240    0.1610 C   0  0  0  0  0  0  0  0  0  0  0  0\\n    1.2704   -1.6808    0.8171 O   0  0  0  0  0  0  0  0  0  0  0  0\\n    1.9714    0.2270   -0.1036 O   0  0  0  0  0  0  0  0  0  0  0  0\\n  1  2  1  0\\n  2  3  1  0\\n  2  4  1  0\\n  4  5  1  0\\n  4  6  2  0\\nM  END\\n\",\"sdf\");\n",
       "\tviewer_17365497098240874.setStyle({\"stick\": {}});\n",
       "\tviewer_17365497098240874.addModel(\"\\n     RDKit          3D\\n\\n  6  5  0  0  0  0  0  0  0  0999 V2000\\n   -1.0954    0.3514    1.0886 C   0  0  0  0  0  0  0  0  0  0  0  0\\n   -0.4389   -0.2853   -0.1292 C   0  0  0  0  0  0  0  0  0  0  0  0\\n   -0.5900    0.5804   -1.3156 N   0  0  0  0  0  0  0  0  0  0  0  0\\n    1.0443   -0.5240    0.1610 C   0  0  0  0  0  0  0  0  0  0  0  0\\n    1.2704   -1.6808    0.8171 O   0  0  0  0  0  0  0  0  0  0  0  0\\n    1.9714    0.2270   -0.1036 O   0  0  0  0  0  0  0  0  0  0  0  0\\n  1  2  1  0\\n  2  3  1  0\\n  2  4  1  0\\n  4  5  1  0\\n  4  6  2  0\\nM  END\\n\",\"sdf\");\n",
       "\tviewer_17365497098240874.setStyle({\"stick\": {}});\n",
       "\tviewer_17365497098240874.setStyle({\"model\": 0},{\"stick\": {\"colorscheme\": \"grayCarbon\"}});\n",
       "\tviewer_17365497098240874.setStyle({\"model\": 1},{\"stick\": {\"colorscheme\": \"grayCarbon\"}});\n",
       "\tviewer_17365497098240874.setStyle({\"model\": 2},{\"stick\": {\"colorscheme\": \"grayCarbon\"}});\n",
       "\tviewer_17365497098240874.setStyle({\"model\": 3},{\"stick\": {\"colorscheme\": \"magentaCarbon\"}});\n",
       "\tviewer_17365497098240874.zoomTo();\n",
       "viewer_17365497098240874.render();\n",
       "});\n",
       "</script>"
      ]
     },
     "metadata": {},
     "output_type": "display_data"
    },
    {
     "data": {
      "application/3dmoljs_load.v0": "<div id=\"3dmolviewer_17365497098264017\"  style=\"position: relative; width: 400px; height: 400px;\">\n        <p id=\"3dmolwarning_17365497098264017\" style=\"background-color:#ffcccc;color:black\">3Dmol.js failed to load for some reason.  Please check your browser console for error messages.<br></p>\n        </div>\n<script>\n\nvar loadScriptAsync = function(uri){\n  return new Promise((resolve, reject) => {\n    //this is to ignore the existence of requirejs amd\n    var savedexports, savedmodule;\n    if (typeof exports !== 'undefined') savedexports = exports;\n    else exports = {}\n    if (typeof module !== 'undefined') savedmodule = module;\n    else module = {}\n\n    var tag = document.createElement('script');\n    tag.src = uri;\n    tag.async = true;\n    tag.onload = () => {\n        exports = savedexports;\n        module = savedmodule;\n        resolve();\n    };\n  var firstScriptTag = document.getElementsByTagName('script')[0];\n  firstScriptTag.parentNode.insertBefore(tag, firstScriptTag);\n});\n};\n\nif(typeof $3Dmolpromise === 'undefined') {\n$3Dmolpromise = null;\n  $3Dmolpromise = loadScriptAsync('https://cdnjs.cloudflare.com/ajax/libs/3Dmol/2.4.2/3Dmol-min.js');\n}\n\nvar viewer_17365497098264017 = null;\nvar warn = document.getElementById(\"3dmolwarning_17365497098264017\");\nif(warn) {\n    warn.parentNode.removeChild(warn);\n}\n$3Dmolpromise.then(function() {\nviewer_17365497098264017 = $3Dmol.createViewer(document.getElementById(\"3dmolviewer_17365497098264017\"),{backgroundColor:\"white\"});\nviewer_17365497098264017.zoomTo();\n\tviewer_17365497098264017.removeAllModels();\n\tviewer_17365497098264017.addModel(\"\\n     RDKit          3D\\n\\n 13 12  0  0  0  0  0  0  0  0999 V2000\\n   -1.0954    0.3514    1.0886 C   0  0  0  0  0  0  0  0  0  0  0  0\\n   -0.4389   -0.2853   -0.1292 C   0  0  0  0  0  0  0  0  0  0  0  0\\n   -0.5900    0.5804   -1.3156 N   0  0  0  0  0  0  0  0  0  0  0  0\\n    1.0443   -0.5240    0.1610 C   0  0  0  0  0  0  0  0  0  0  0  0\\n    1.2704   -1.6808    0.8171 O   0  0  0  0  0  0  0  0  0  0  0  0\\n    1.9714    0.2270   -0.1036 O   0  0  0  0  0  0  0  0  0  0  0  0\\n   -0.9884   -0.2926    1.9685 H   0  0  0  0  0  0  0  0  0  0  0  0\\n   -0.6363    1.3162    1.3333 H   0  0  0  0  0  0  0  0  0  0  0  0\\n   -2.1654    0.5145    0.9211 H   0  0  0  0  0  0  0  0  0  0  0  0\\n   -0.9089   -1.2478   -0.3574 H   0  0  0  0  0  0  0  0  0  0  0  0\\n    0.0478    1.3745   -1.2209 H   0  0  0  0  0  0  0  0  0  0  0  0\\n   -1.5314    0.9665   -1.3459 H   0  0  0  0  0  0  0  0  0  0  0  0\\n    2.2447   -1.6992    0.9229 H   0  0  0  0  0  0  0  0  0  0  0  0\\n  1  2  1  0\\n  2  3  1  0\\n  2  4  1  0\\n  4  5  1  0\\n  4  6  2  0\\n  1  7  1  0\\n  1  8  1  0\\n  1  9  1  0\\n  2 10  1  0\\n  3 11  1  0\\n  3 12  1  0\\n  5 13  1  0\\nM  END\\n\",\"sdf\");\n\tviewer_17365497098264017.setStyle({\"stick\": {}});\n\tviewer_17365497098264017.addModel(\"\\n     RDKit          3D\\n\\n 13 12  0  0  0  0  0  0  0  0999 V2000\\n   -1.0954    0.3514    1.0886 C   0  0  0  0  0  0  0  0  0  0  0  0\\n   -0.4389   -0.2853   -0.1292 C   0  0  0  0  0  0  0  0  0  0  0  0\\n   -0.5900    0.5804   -1.3156 N   0  0  0  0  0  0  0  0  0  0  0  0\\n    1.0443   -0.5240    0.1610 C   0  0  0  0  0  0  0  0  0  0  0  0\\n    1.2704   -1.6808    0.8171 O   0  0  0  0  0  0  0  0  0  0  0  0\\n    1.9714    0.2270   -0.1036 O   0  0  0  0  0  0  0  0  0  0  0  0\\n   -0.9884   -0.2926    1.9685 H   0  0  0  0  0  0  0  0  0  0  0  0\\n   -0.6363    1.3162    1.3333 H   0  0  0  0  0  0  0  0  0  0  0  0\\n   -2.1654    0.5145    0.9211 H   0  0  0  0  0  0  0  0  0  0  0  0\\n   -0.9089   -1.2478   -0.3574 H   0  0  0  0  0  0  0  0  0  0  0  0\\n    0.0478    1.3745   -1.2209 H   0  0  0  0  0  0  0  0  0  0  0  0\\n   -1.5314    0.9665   -1.3459 H   0  0  0  0  0  0  0  0  0  0  0  0\\n    2.2447   -1.6992    0.9229 H   0  0  0  0  0  0  0  0  0  0  0  0\\n  1  2  1  0\\n  2  3  1  0\\n  2  4  1  0\\n  4  5  1  0\\n  4  6  2  0\\n  1  7  1  0\\n  1  8  1  0\\n  1  9  1  0\\n  2 10  1  0\\n  3 11  1  0\\n  3 12  1  0\\n  5 13  1  0\\nM  END\\n\",\"sdf\");\n\tviewer_17365497098264017.setStyle({\"stick\": {}});\n\tviewer_17365497098264017.setStyle({\"model\": 0},{\"stick\": {\"colorscheme\": \"grayCarbon\"}});\n\tviewer_17365497098264017.zoomTo();\nviewer_17365497098264017.render();\n});\n</script>",
      "text/html": [
       "<div id=\"3dmolviewer_17365497098264017\"  style=\"position: relative; width: 400px; height: 400px;\">\n",
       "        <p id=\"3dmolwarning_17365497098264017\" style=\"background-color:#ffcccc;color:black\">3Dmol.js failed to load for some reason.  Please check your browser console for error messages.<br></p>\n",
       "        </div>\n",
       "<script>\n",
       "\n",
       "var loadScriptAsync = function(uri){\n",
       "  return new Promise((resolve, reject) => {\n",
       "    //this is to ignore the existence of requirejs amd\n",
       "    var savedexports, savedmodule;\n",
       "    if (typeof exports !== 'undefined') savedexports = exports;\n",
       "    else exports = {}\n",
       "    if (typeof module !== 'undefined') savedmodule = module;\n",
       "    else module = {}\n",
       "\n",
       "    var tag = document.createElement('script');\n",
       "    tag.src = uri;\n",
       "    tag.async = true;\n",
       "    tag.onload = () => {\n",
       "        exports = savedexports;\n",
       "        module = savedmodule;\n",
       "        resolve();\n",
       "    };\n",
       "  var firstScriptTag = document.getElementsByTagName('script')[0];\n",
       "  firstScriptTag.parentNode.insertBefore(tag, firstScriptTag);\n",
       "});\n",
       "};\n",
       "\n",
       "if(typeof $3Dmolpromise === 'undefined') {\n",
       "$3Dmolpromise = null;\n",
       "  $3Dmolpromise = loadScriptAsync('https://cdnjs.cloudflare.com/ajax/libs/3Dmol/2.4.2/3Dmol-min.js');\n",
       "}\n",
       "\n",
       "var viewer_17365497098264017 = null;\n",
       "var warn = document.getElementById(\"3dmolwarning_17365497098264017\");\n",
       "if(warn) {\n",
       "    warn.parentNode.removeChild(warn);\n",
       "}\n",
       "$3Dmolpromise.then(function() {\n",
       "viewer_17365497098264017 = $3Dmol.createViewer(document.getElementById(\"3dmolviewer_17365497098264017\"),{backgroundColor:\"white\"});\n",
       "viewer_17365497098264017.zoomTo();\n",
       "\tviewer_17365497098264017.removeAllModels();\n",
       "\tviewer_17365497098264017.addModel(\"\\n     RDKit          3D\\n\\n 13 12  0  0  0  0  0  0  0  0999 V2000\\n   -1.0954    0.3514    1.0886 C   0  0  0  0  0  0  0  0  0  0  0  0\\n   -0.4389   -0.2853   -0.1292 C   0  0  0  0  0  0  0  0  0  0  0  0\\n   -0.5900    0.5804   -1.3156 N   0  0  0  0  0  0  0  0  0  0  0  0\\n    1.0443   -0.5240    0.1610 C   0  0  0  0  0  0  0  0  0  0  0  0\\n    1.2704   -1.6808    0.8171 O   0  0  0  0  0  0  0  0  0  0  0  0\\n    1.9714    0.2270   -0.1036 O   0  0  0  0  0  0  0  0  0  0  0  0\\n   -0.9884   -0.2926    1.9685 H   0  0  0  0  0  0  0  0  0  0  0  0\\n   -0.6363    1.3162    1.3333 H   0  0  0  0  0  0  0  0  0  0  0  0\\n   -2.1654    0.5145    0.9211 H   0  0  0  0  0  0  0  0  0  0  0  0\\n   -0.9089   -1.2478   -0.3574 H   0  0  0  0  0  0  0  0  0  0  0  0\\n    0.0478    1.3745   -1.2209 H   0  0  0  0  0  0  0  0  0  0  0  0\\n   -1.5314    0.9665   -1.3459 H   0  0  0  0  0  0  0  0  0  0  0  0\\n    2.2447   -1.6992    0.9229 H   0  0  0  0  0  0  0  0  0  0  0  0\\n  1  2  1  0\\n  2  3  1  0\\n  2  4  1  0\\n  4  5  1  0\\n  4  6  2  0\\n  1  7  1  0\\n  1  8  1  0\\n  1  9  1  0\\n  2 10  1  0\\n  3 11  1  0\\n  3 12  1  0\\n  5 13  1  0\\nM  END\\n\",\"sdf\");\n",
       "\tviewer_17365497098264017.setStyle({\"stick\": {}});\n",
       "\tviewer_17365497098264017.addModel(\"\\n     RDKit          3D\\n\\n 13 12  0  0  0  0  0  0  0  0999 V2000\\n   -1.0954    0.3514    1.0886 C   0  0  0  0  0  0  0  0  0  0  0  0\\n   -0.4389   -0.2853   -0.1292 C   0  0  0  0  0  0  0  0  0  0  0  0\\n   -0.5900    0.5804   -1.3156 N   0  0  0  0  0  0  0  0  0  0  0  0\\n    1.0443   -0.5240    0.1610 C   0  0  0  0  0  0  0  0  0  0  0  0\\n    1.2704   -1.6808    0.8171 O   0  0  0  0  0  0  0  0  0  0  0  0\\n    1.9714    0.2270   -0.1036 O   0  0  0  0  0  0  0  0  0  0  0  0\\n   -0.9884   -0.2926    1.9685 H   0  0  0  0  0  0  0  0  0  0  0  0\\n   -0.6363    1.3162    1.3333 H   0  0  0  0  0  0  0  0  0  0  0  0\\n   -2.1654    0.5145    0.9211 H   0  0  0  0  0  0  0  0  0  0  0  0\\n   -0.9089   -1.2478   -0.3574 H   0  0  0  0  0  0  0  0  0  0  0  0\\n    0.0478    1.3745   -1.2209 H   0  0  0  0  0  0  0  0  0  0  0  0\\n   -1.5314    0.9665   -1.3459 H   0  0  0  0  0  0  0  0  0  0  0  0\\n    2.2447   -1.6992    0.9229 H   0  0  0  0  0  0  0  0  0  0  0  0\\n  1  2  1  0\\n  2  3  1  0\\n  2  4  1  0\\n  4  5  1  0\\n  4  6  2  0\\n  1  7  1  0\\n  1  8  1  0\\n  1  9  1  0\\n  2 10  1  0\\n  3 11  1  0\\n  3 12  1  0\\n  5 13  1  0\\nM  END\\n\",\"sdf\");\n",
       "\tviewer_17365497098264017.setStyle({\"stick\": {}});\n",
       "\tviewer_17365497098264017.setStyle({\"model\": 0},{\"stick\": {\"colorscheme\": \"grayCarbon\"}});\n",
       "\tviewer_17365497098264017.zoomTo();\n",
       "viewer_17365497098264017.render();\n",
       "});\n",
       "</script>"
      ]
     },
     "metadata": {},
     "output_type": "display_data"
    }
   ],
   "source": [
    "# Align by substructure (COCCOCC)\n",
    "core = Chem.MolFromSmiles('CC(N)C(O)=O')\n",
    "rdMolAlign.AlignMolConformers(mol2,atomIds = mol2.GetSubstructMatch(core))\n",
    "#rdMolAlign.AlignMol(mol2,mol2,prbCid=cids[1],refCid=cids[5])\n",
    "#rdMolAlign.AlignMol(mol2,mol2,prbCid=cids[5],refCid=cids[9])\n",
    "drawit(mol2,cids=[1,5,10,20], s=False, removeHs=True)\n",
    "drawit(mol2,cids=[1], s=False, removeHs=False)\n"
   ]
  },
  {
   "cell_type": "code",
   "execution_count": null,
   "metadata": {},
   "outputs": [],
   "source": [
    "def smiles_to_svg(smiles: str, width: int = 400, height: int = 400) -> bytes:\n",
    "    \"\"\"\n",
    "    makes an SVG image of a molecule\n",
    "    \"\"\"\n",
    "    mol = Chem.MolFromSmiles(smiles)\n",
    "    if mol is None:\n",
    "        raise RuntimeError(\"Invalid SMILES\")\n",
    "\n",
    "    Chem.rdCoordGen.AddCoords(mol)\n",
    "    drawer = Chem.Draw.rdMolDraw2D.MolDraw2DSVG(width, height)\n",
    "    # set drawing options on drawer.getOptions()\n",
    "    drawer.DrawMolecule(mol)\n",
    "    drawer.FinishDrawing()\n",
    "    svg = drawer.GetDrawingText()"
   ]
  },
  {
   "cell_type": "code",
   "execution_count": 17,
   "metadata": {},
   "outputs": [
    {
     "data": {
      "text/plain": [
       "b\"<?xml version='1.0' encoding='iso-8859-1'?>\\n<svg version='1.1' baseProfile='full'\\n              xmlns='http://www.w3.org/2000/svg'\\n                      xmlns:rdkit='http://www.rdkit.org/xml'\\n                      xmlns:xlink='http://www.w3.org/1999/xlink'\\n                  xml:space='preserve'\\nwidth='400px' height='400px' viewBox='0 0 400 400'>\\n<!-- END OF HEADER -->\\n<rect style='opacity:1.0;fill:#FFFFFF;stroke:none' width='400.0' height='400.0' x='0.0' y='0.0'> </rect>\\n<path class='bond-0 atom-0 atom-1' d='M 129.5,135.9 L 128.3,141.9' style='fill:none;fill-rule:evenodd;stroke:#000000;stroke-width:2.0px;stroke-linecap:butt;stroke-linejoin:miter;stroke-opacity:1' />\\n<path class='bond-0 atom-0 atom-1' d='M 128.3,141.9 L 127.0,147.9' style='fill:none;fill-rule:evenodd;stroke:#FF0000;stroke-width:2.0px;stroke-linecap:butt;stroke-linejoin:miter;stroke-opacity:1' />\\n<path class='bond-1 atom-1 atom-2' d='M 122.3,153.3 L 116.3,155.2' style='fill:none;fill-rule:evenodd;stroke:#FF0000;stroke-width:2.0px;stroke-linecap:butt;stroke-linejoin:miter;stroke-opacity:1' />\\n<path class='bond-1 atom-1 atom-2' d='M 116.3,155.2 L 110.3,157.1' style='fill:none;fill-rule:evenodd;stroke:#000000;stroke-width:2.0px;stroke-linecap:butt;stroke-linejoin:miter;stroke-opacity:1' />\\n<path class='bond-2 atom-2 atom-3' d='M 110.3,157.1 L 98.0,146.1' style='fill:none;fill-rule:evenodd;stroke:#000000;stroke-width:2.0px;stroke-linecap:butt;stroke-linejoin:miter;stroke-opacity:1' />\\n<path class='bond-2 atom-2 atom-3' d='M 107.6,158.0 L 97.4,148.9' style='fill:none;fill-rule:evenodd;stroke:#000000;stroke-width:2.0px;stroke-linecap:butt;stroke-linejoin:miter;stroke-opacity:1' />\\n<path class='bond-3 atom-3 atom-4' d='M 98.0,146.1 L 82.3,151.1' style='fill:none;fill-rule:evenodd;stroke:#000000;stroke-width:2.0px;stroke-linecap:butt;stroke-linejoin:miter;stroke-opacity:1' />\\n<path class='bond-4 atom-4 atom-5' d='M 82.3,151.1 L 70.0,140.1' style='fill:none;fill-rule:evenodd;stroke:#000000;stroke-width:2.0px;stroke-linecap:butt;stroke-linejoin:miter;stroke-opacity:1' />\\n<path class='bond-5 atom-5 atom-6' d='M 70.0,140.1 L 54.2,145.1' style='fill:none;fill-rule:evenodd;stroke:#000000;stroke-width:2.0px;stroke-linecap:butt;stroke-linejoin:miter;stroke-opacity:1' />\\n<path class='bond-6 atom-6 atom-7' d='M 54.2,145.1 L 41.9,134.0' style='fill:none;fill-rule:evenodd;stroke:#000000;stroke-width:2.0px;stroke-linecap:butt;stroke-linejoin:miter;stroke-opacity:1' />\\n<path class='bond-7 atom-7 atom-8' d='M 41.9,134.0 L 26.1,139.1' style='fill:none;fill-rule:evenodd;stroke:#000000;stroke-width:2.0px;stroke-linecap:butt;stroke-linejoin:miter;stroke-opacity:1' />\\n<path class='bond-7 atom-7 atom-8' d='M 41.3,136.9 L 28.3,141.1' style='fill:none;fill-rule:evenodd;stroke:#000000;stroke-width:2.0px;stroke-linecap:butt;stroke-linejoin:miter;stroke-opacity:1' />\\n<path class='bond-8 atom-8 atom-9' d='M 26.1,139.1 L 24.8,145.2' style='fill:none;fill-rule:evenodd;stroke:#000000;stroke-width:2.0px;stroke-linecap:butt;stroke-linejoin:miter;stroke-opacity:1' />\\n<path class='bond-8 atom-8 atom-9' d='M 24.8,145.2 L 23.5,151.3' style='fill:none;fill-rule:evenodd;stroke:#0000FF;stroke-width:2.0px;stroke-linecap:butt;stroke-linejoin:miter;stroke-opacity:1' />\\n<path class='bond-9 atom-9 atom-10' d='M 25.9,158.2 L 30.4,162.3' style='fill:none;fill-rule:evenodd;stroke:#0000FF;stroke-width:2.0px;stroke-linecap:butt;stroke-linejoin:miter;stroke-opacity:1' />\\n<path class='bond-9 atom-9 atom-10' d='M 30.4,162.3 L 35.0,166.4' style='fill:none;fill-rule:evenodd;stroke:#000000;stroke-width:2.0px;stroke-linecap:butt;stroke-linejoin:miter;stroke-opacity:1' />\\n<path class='bond-9 atom-9 atom-10' d='M 27.5,156.4 L 31.6,160.0' style='fill:none;fill-rule:evenodd;stroke:#0000FF;stroke-width:2.0px;stroke-linecap:butt;stroke-linejoin:miter;stroke-opacity:1' />\\n<path class='bond-9 atom-9 atom-10' d='M 31.6,160.0 L 35.6,163.6' style='fill:none;fill-rule:evenodd;stroke:#000000;stroke-width:2.0px;stroke-linecap:butt;stroke-linejoin:miter;stroke-opacity:1' />\\n<path class='bond-10 atom-10 atom-11' d='M 35.0,166.4 L 50.7,161.4' style='fill:none;fill-rule:evenodd;stroke:#000000;stroke-width:2.0px;stroke-linecap:butt;stroke-linejoin:miter;stroke-opacity:1' />\\n<path class='bond-11 atom-5 atom-12' d='M 70.0,140.1 L 73.5,123.8' style='fill:none;fill-rule:evenodd;stroke:#000000;stroke-width:2.0px;stroke-linecap:butt;stroke-linejoin:miter;stroke-opacity:1' />\\n<path class='bond-11 atom-5 atom-12' d='M 67.9,138.1 L 70.7,124.7' style='fill:none;fill-rule:evenodd;stroke:#000000;stroke-width:2.0px;stroke-linecap:butt;stroke-linejoin:miter;stroke-opacity:1' />\\n<path class='bond-12 atom-12 atom-13' d='M 73.5,123.8 L 68.9,119.8' style='fill:none;fill-rule:evenodd;stroke:#000000;stroke-width:2.0px;stroke-linecap:butt;stroke-linejoin:miter;stroke-opacity:1' />\\n<path class='bond-12 atom-12 atom-13' d='M 68.9,119.8 L 64.4,115.7' style='fill:none;fill-rule:evenodd;stroke:#0000FF;stroke-width:2.0px;stroke-linecap:butt;stroke-linejoin:miter;stroke-opacity:1' />\\n<path class='bond-13 atom-13 atom-14' d='M 57.9,113.8 L 51.7,115.8' style='fill:none;fill-rule:evenodd;stroke:#0000FF;stroke-width:2.0px;stroke-linecap:butt;stroke-linejoin:miter;stroke-opacity:1' />\\n<path class='bond-13 atom-13 atom-14' d='M 51.7,115.8 L 45.4,117.8' style='fill:none;fill-rule:evenodd;stroke:#000000;stroke-width:2.0px;stroke-linecap:butt;stroke-linejoin:miter;stroke-opacity:1' />\\n<path class='bond-14 atom-14 atom-15' d='M 46.8,117.4 L 42.2,113.3' style='fill:none;fill-rule:evenodd;stroke:#000000;stroke-width:2.0px;stroke-linecap:butt;stroke-linejoin:miter;stroke-opacity:1' />\\n<path class='bond-14 atom-14 atom-15' d='M 42.2,113.3 L 37.7,109.2' style='fill:none;fill-rule:evenodd;stroke:#FF0000;stroke-width:2.0px;stroke-linecap:butt;stroke-linejoin:miter;stroke-opacity:1' />\\n<path class='bond-14 atom-14 atom-15' d='M 45.1,119.2 L 40.6,115.2' style='fill:none;fill-rule:evenodd;stroke:#000000;stroke-width:2.0px;stroke-linecap:butt;stroke-linejoin:miter;stroke-opacity:1' />\\n<path class='bond-14 atom-14 atom-15' d='M 40.6,115.2 L 36.0,111.1' style='fill:none;fill-rule:evenodd;stroke:#FF0000;stroke-width:2.0px;stroke-linecap:butt;stroke-linejoin:miter;stroke-opacity:1' />\\n<path class='bond-15 atom-13 atom-16' d='M 62.0,108.7 L 63.3,102.6' style='fill:none;fill-rule:evenodd;stroke:#0000FF;stroke-width:2.0px;stroke-linecap:butt;stroke-linejoin:miter;stroke-opacity:1' />\\n<path class='bond-15 atom-13 atom-16' d='M 63.3,102.6 L 64.6,96.6' style='fill:none;fill-rule:evenodd;stroke:#000000;stroke-width:2.0px;stroke-linecap:butt;stroke-linejoin:miter;stroke-opacity:1' />\\n<path class='bond-16 atom-4 atom-17' d='M 82.3,151.1 L 78.8,167.4' style='fill:none;fill-rule:evenodd;stroke:#000000;stroke-width:2.0px;stroke-linecap:butt;stroke-linejoin:miter;stroke-opacity:1' />\\n<path class='bond-16 atom-4 atom-17' d='M 84.4,153.1 L 81.5,166.5' style='fill:none;fill-rule:evenodd;stroke:#000000;stroke-width:2.0px;stroke-linecap:butt;stroke-linejoin:miter;stroke-opacity:1' />\\n<path class='bond-17 atom-17 atom-18' d='M 78.8,167.4 L 91.1,178.4' style='fill:none;fill-rule:evenodd;stroke:#000000;stroke-width:2.0px;stroke-linecap:butt;stroke-linejoin:miter;stroke-opacity:1' />\\n<path class='bond-18 atom-18 atom-19' d='M 91.1,178.4 L 89.8,184.5' style='fill:none;fill-rule:evenodd;stroke:#000000;stroke-width:2.0px;stroke-linecap:butt;stroke-linejoin:miter;stroke-opacity:1' />\\n<path class='bond-18 atom-18 atom-19' d='M 89.8,184.5 L 88.5,190.5' style='fill:none;fill-rule:evenodd;stroke:#FF0000;stroke-width:2.0px;stroke-linecap:butt;stroke-linejoin:miter;stroke-opacity:1' />\\n<path class='bond-19 atom-19 atom-20' d='M 83.8,195.9 L 77.9,197.8' style='fill:none;fill-rule:evenodd;stroke:#FF0000;stroke-width:2.0px;stroke-linecap:butt;stroke-linejoin:miter;stroke-opacity:1' />\\n<path class='bond-19 atom-19 atom-20' d='M 77.9,197.8 L 71.9,199.7' style='fill:none;fill-rule:evenodd;stroke:#000000;stroke-width:2.0px;stroke-linecap:butt;stroke-linejoin:miter;stroke-opacity:1' />\\n<path class='bond-20 atom-18 atom-21' d='M 91.1,178.4 L 106.9,173.4' style='fill:none;fill-rule:evenodd;stroke:#000000;stroke-width:2.0px;stroke-linecap:butt;stroke-linejoin:miter;stroke-opacity:1' />\\n<path class='bond-20 atom-18 atom-21' d='M 91.7,175.6 L 104.7,171.4' style='fill:none;fill-rule:evenodd;stroke:#000000;stroke-width:2.0px;stroke-linecap:butt;stroke-linejoin:miter;stroke-opacity:1' />\\n<path class='bond-21 atom-21 atom-22' d='M 106.9,173.4 L 119.1,184.5' style='fill:none;fill-rule:evenodd;stroke:#000000;stroke-width:2.0px;stroke-linecap:butt;stroke-linejoin:miter;stroke-opacity:1' />\\n<path class='bond-22 atom-22 atom-23' d='M 119.1,184.5 L 125.4,182.4' style='fill:none;fill-rule:evenodd;stroke:#000000;stroke-width:2.0px;stroke-linecap:butt;stroke-linejoin:miter;stroke-opacity:1' />\\n<path class='bond-22 atom-22 atom-23' d='M 125.4,182.4 L 131.7,180.4' style='fill:none;fill-rule:evenodd;stroke:#0000FF;stroke-width:2.0px;stroke-linecap:butt;stroke-linejoin:miter;stroke-opacity:1' />\\n<path class='bond-23 atom-23 atom-24' d='M 138.1,182.3 L 142.7,186.4' style='fill:none;fill-rule:evenodd;stroke:#0000FF;stroke-width:2.0px;stroke-linecap:butt;stroke-linejoin:miter;stroke-opacity:1' />\\n<path class='bond-23 atom-23 atom-24' d='M 142.7,186.4 L 147.2,190.4' style='fill:none;fill-rule:evenodd;stroke:#000000;stroke-width:2.0px;stroke-linecap:butt;stroke-linejoin:miter;stroke-opacity:1' />\\n<path class='bond-24 atom-24 atom-25' d='M 147.2,190.4 L 163.0,185.4' style='fill:none;fill-rule:evenodd;stroke:#000000;stroke-width:2.0px;stroke-linecap:butt;stroke-linejoin:miter;stroke-opacity:1' />\\n<path class='bond-25 atom-25 atom-26' d='M 163.0,185.4 L 164.3,179.3' style='fill:none;fill-rule:evenodd;stroke:#000000;stroke-width:2.0px;stroke-linecap:butt;stroke-linejoin:miter;stroke-opacity:1' />\\n<path class='bond-25 atom-25 atom-26' d='M 164.3,179.3 L 165.6,173.2' style='fill:none;fill-rule:evenodd;stroke:#0000FF;stroke-width:2.0px;stroke-linecap:butt;stroke-linejoin:miter;stroke-opacity:1' />\\n<path class='bond-26 atom-26 atom-27' d='M 163.2,166.3 L 158.7,162.2' style='fill:none;fill-rule:evenodd;stroke:#0000FF;stroke-width:2.0px;stroke-linecap:butt;stroke-linejoin:miter;stroke-opacity:1' />\\n<path class='bond-26 atom-26 atom-27' d='M 158.7,162.2 L 154.1,158.1' style='fill:none;fill-rule:evenodd;stroke:#000000;stroke-width:2.0px;stroke-linecap:butt;stroke-linejoin:miter;stroke-opacity:1' />\\n<path class='bond-27 atom-27 atom-28' d='M 154.1,158.1 L 138.4,163.1' style='fill:none;fill-rule:evenodd;stroke:#000000;stroke-width:2.0px;stroke-linecap:butt;stroke-linejoin:miter;stroke-opacity:1' />\\n<path class='bond-28 atom-26 atom-29' d='M 169.7,168.1 L 175.9,166.1' style='fill:none;fill-rule:evenodd;stroke:#0000FF;stroke-width:2.0px;stroke-linecap:butt;stroke-linejoin:miter;stroke-opacity:1' />\\n<path class='bond-28 atom-26 atom-29' d='M 175.9,166.1 L 182.2,164.1' style='fill:none;fill-rule:evenodd;stroke:#000000;stroke-width:2.0px;stroke-linecap:butt;stroke-linejoin:miter;stroke-opacity:1' />\\n<path class='bond-29 atom-29 atom-30' d='M 182.2,164.1 L 194.5,175.2' style='fill:none;fill-rule:evenodd;stroke:#000000;stroke-width:2.0px;stroke-linecap:butt;stroke-linejoin:miter;stroke-opacity:1' />\\n<path class='bond-30 atom-30 atom-31' d='M 194.5,175.2 L 200.5,173.2' style='fill:none;fill-rule:evenodd;stroke:#000000;stroke-width:2.0px;stroke-linecap:butt;stroke-linejoin:miter;stroke-opacity:1' />\\n<path class='bond-30 atom-30 atom-31' d='M 200.5,173.2 L 206.5,171.3' style='fill:none;fill-rule:evenodd;stroke:#FF0000;stroke-width:2.0px;stroke-linecap:butt;stroke-linejoin:miter;stroke-opacity:1' />\\n<path class='bond-31 atom-31 atom-32' d='M 214.0,173.5 L 218.3,177.3' style='fill:none;fill-rule:evenodd;stroke:#FF0000;stroke-width:2.0px;stroke-linecap:butt;stroke-linejoin:miter;stroke-opacity:1' />\\n<path class='bond-31 atom-31 atom-32' d='M 218.3,177.3 L 222.5,181.2' style='fill:none;fill-rule:evenodd;stroke:#000000;stroke-width:2.0px;stroke-linecap:butt;stroke-linejoin:miter;stroke-opacity:1' />\\n<path class='bond-32 atom-32 atom-33' d='M 222.5,181.2 L 238.3,176.1' style='fill:none;fill-rule:evenodd;stroke:#000000;stroke-width:2.0px;stroke-linecap:butt;stroke-linejoin:miter;stroke-opacity:1' />\\n<path class='bond-33 atom-33 atom-34' d='M 238.3,176.1 L 242.6,179.9' style='fill:none;fill-rule:evenodd;stroke:#000000;stroke-width:2.0px;stroke-linecap:butt;stroke-linejoin:miter;stroke-opacity:1' />\\n<path class='bond-33 atom-33 atom-34' d='M 242.6,179.9 L 246.8,183.8' style='fill:none;fill-rule:evenodd;stroke:#FF0000;stroke-width:2.0px;stroke-linecap:butt;stroke-linejoin:miter;stroke-opacity:1' />\\n<path class='bond-34 atom-34 atom-35' d='M 254.4,185.9 L 260.4,184.0' style='fill:none;fill-rule:evenodd;stroke:#FF0000;stroke-width:2.0px;stroke-linecap:butt;stroke-linejoin:miter;stroke-opacity:1' />\\n<path class='bond-34 atom-34 atom-35' d='M 260.4,184.0 L 266.4,182.1' style='fill:none;fill-rule:evenodd;stroke:#000000;stroke-width:2.0px;stroke-linecap:butt;stroke-linejoin:miter;stroke-opacity:1' />\\n<path class='bond-35 atom-35 atom-36' d='M 266.4,182.1 L 278.7,193.2' style='fill:none;fill-rule:evenodd;stroke:#000000;stroke-width:2.0px;stroke-linecap:butt;stroke-linejoin:miter;stroke-opacity:1' />\\n<path class='bond-36 atom-36 atom-37' d='M 278.7,193.2 L 284.6,191.2' style='fill:none;fill-rule:evenodd;stroke:#000000;stroke-width:2.0px;stroke-linecap:butt;stroke-linejoin:miter;stroke-opacity:1' />\\n<path class='bond-36 atom-36 atom-37' d='M 284.6,191.2 L 290.6,189.3' style='fill:none;fill-rule:evenodd;stroke:#FF0000;stroke-width:2.0px;stroke-linecap:butt;stroke-linejoin:miter;stroke-opacity:1' />\\n<path class='bond-37 atom-37 atom-38' d='M 298.2,191.5 L 302.4,195.3' style='fill:none;fill-rule:evenodd;stroke:#FF0000;stroke-width:2.0px;stroke-linecap:butt;stroke-linejoin:miter;stroke-opacity:1' />\\n<path class='bond-37 atom-37 atom-38' d='M 302.4,195.3 L 306.7,199.2' style='fill:none;fill-rule:evenodd;stroke:#000000;stroke-width:2.0px;stroke-linecap:butt;stroke-linejoin:miter;stroke-opacity:1' />\\n<path class='bond-38 atom-38 atom-39' d='M 306.7,199.2 L 322.5,194.1' style='fill:none;fill-rule:evenodd;stroke:#000000;stroke-width:2.0px;stroke-linecap:butt;stroke-linejoin:miter;stroke-opacity:1' />\\n<path class='bond-38 atom-38 atom-39' d='M 308.8,201.1 L 321.9,196.9' style='fill:none;fill-rule:evenodd;stroke:#000000;stroke-width:2.0px;stroke-linecap:butt;stroke-linejoin:miter;stroke-opacity:1' />\\n<path class='bond-39 atom-39 atom-40' d='M 322.5,194.1 L 334.8,205.2' style='fill:none;fill-rule:evenodd;stroke:#000000;stroke-width:2.0px;stroke-linecap:butt;stroke-linejoin:miter;stroke-opacity:1' />\\n<path class='bond-40 atom-40 atom-41' d='M 334.8,205.2 L 350.5,200.1' style='fill:none;fill-rule:evenodd;stroke:#000000;stroke-width:2.0px;stroke-linecap:butt;stroke-linejoin:miter;stroke-opacity:1' />\\n<path class='bond-41 atom-41 atom-42' d='M 350.5,200.1 L 363.9,209.8' style='fill:none;fill-rule:evenodd;stroke:#000000;stroke-width:2.0px;stroke-linecap:butt;stroke-linejoin:miter;stroke-opacity:1' />\\n<path class='bond-41 atom-41 atom-42' d='M 353.4,199.1 L 363.9,206.8' style='fill:none;fill-rule:evenodd;stroke:#000000;stroke-width:2.0px;stroke-linecap:butt;stroke-linejoin:miter;stroke-opacity:1' />\\n<path class='bond-42 atom-42 atom-43' d='M 363.9,209.8 L 369.0,206.1' style='fill:none;fill-rule:evenodd;stroke:#000000;stroke-width:2.0px;stroke-linecap:butt;stroke-linejoin:miter;stroke-opacity:1' />\\n<path class='bond-42 atom-42 atom-43' d='M 369.0,206.1 L 374.1,202.5' style='fill:none;fill-rule:evenodd;stroke:#0000FF;stroke-width:2.0px;stroke-linecap:butt;stroke-linejoin:miter;stroke-opacity:1' />\\n<path class='bond-43 atom-43 atom-44' d='M 376.0,196.1 L 374.1,190.2' style='fill:none;fill-rule:evenodd;stroke:#0000FF;stroke-width:2.0px;stroke-linecap:butt;stroke-linejoin:miter;stroke-opacity:1' />\\n<path class='bond-43 atom-43 atom-44' d='M 374.1,190.2 L 372.2,184.3' style='fill:none;fill-rule:evenodd;stroke:#000000;stroke-width:2.0px;stroke-linecap:butt;stroke-linejoin:miter;stroke-opacity:1' />\\n<path class='bond-43 atom-43 atom-44' d='M 373.7,196.8 L 372.0,191.8' style='fill:none;fill-rule:evenodd;stroke:#0000FF;stroke-width:2.0px;stroke-linecap:butt;stroke-linejoin:miter;stroke-opacity:1' />\\n<path class='bond-43 atom-43 atom-44' d='M 372.0,191.8 L 370.4,186.8' style='fill:none;fill-rule:evenodd;stroke:#000000;stroke-width:2.0px;stroke-linecap:butt;stroke-linejoin:miter;stroke-opacity:1' />\\n<path class='bond-44 atom-44 atom-45' d='M 372.2,184.3 L 365.4,184.3' style='fill:none;fill-rule:evenodd;stroke:#000000;stroke-width:2.0px;stroke-linecap:butt;stroke-linejoin:miter;stroke-opacity:1' />\\n<path class='bond-44 atom-44 atom-45' d='M 365.4,184.3 L 358.5,184.3' style='fill:none;fill-rule:evenodd;stroke:#CCCC00;stroke-width:2.0px;stroke-linecap:butt;stroke-linejoin:miter;stroke-opacity:1' />\\n<path class='bond-45 atom-42 atom-46' d='M 363.9,209.8 L 363.9,226.4' style='fill:none;fill-rule:evenodd;stroke:#000000;stroke-width:2.0px;stroke-linecap:butt;stroke-linejoin:miter;stroke-opacity:1' />\\n<path class='bond-46 atom-40 atom-47' d='M 334.8,205.2 L 331.3,221.4' style='fill:none;fill-rule:evenodd;stroke:#000000;stroke-width:2.0px;stroke-linecap:butt;stroke-linejoin:miter;stroke-opacity:1' />\\n<path class='bond-46 atom-40 atom-47' d='M 332.0,206.0 L 329.2,219.5' style='fill:none;fill-rule:evenodd;stroke:#000000;stroke-width:2.0px;stroke-linecap:butt;stroke-linejoin:miter;stroke-opacity:1' />\\n<path class='bond-47 atom-47 atom-48' d='M 331.3,221.4 L 315.5,226.5' style='fill:none;fill-rule:evenodd;stroke:#000000;stroke-width:2.0px;stroke-linecap:butt;stroke-linejoin:miter;stroke-opacity:1' />\\n<path class='bond-48 atom-48 atom-49' d='M 315.5,226.5 L 303.2,215.4' style='fill:none;fill-rule:evenodd;stroke:#000000;stroke-width:2.0px;stroke-linecap:butt;stroke-linejoin:miter;stroke-opacity:1' />\\n<path class='bond-48 atom-48 atom-49' d='M 316.1,223.7 L 306.0,214.5' style='fill:none;fill-rule:evenodd;stroke:#000000;stroke-width:2.0px;stroke-linecap:butt;stroke-linejoin:miter;stroke-opacity:1' />\\n<path class='bond-49 atom-49 atom-50' d='M 303.2,215.4 L 287.5,220.5' style='fill:none;fill-rule:evenodd;stroke:#000000;stroke-width:2.0px;stroke-linecap:butt;stroke-linejoin:miter;stroke-opacity:1' />\\n<path class='bond-50 atom-50 atom-51' d='M 287.5,220.5 L 286.2,226.5' style='fill:none;fill-rule:evenodd;stroke:#000000;stroke-width:2.0px;stroke-linecap:butt;stroke-linejoin:miter;stroke-opacity:1' />\\n<path class='bond-50 atom-50 atom-51' d='M 286.2,226.5 L 284.9,232.6' style='fill:none;fill-rule:evenodd;stroke:#0000FF;stroke-width:2.0px;stroke-linecap:butt;stroke-linejoin:miter;stroke-opacity:1' />\\n<path class='bond-51 atom-51 atom-52' d='M 280.8,237.7 L 274.5,239.7' style='fill:none;fill-rule:evenodd;stroke:#0000FF;stroke-width:2.0px;stroke-linecap:butt;stroke-linejoin:miter;stroke-opacity:1' />\\n<path class='bond-51 atom-51 atom-52' d='M 274.5,239.7 L 268.3,241.8' style='fill:none;fill-rule:evenodd;stroke:#000000;stroke-width:2.0px;stroke-linecap:butt;stroke-linejoin:miter;stroke-opacity:1' />\\n<path class='bond-52 atom-53 atom-52' d='M 265.8,254.8 L 265.2,254.7' style='fill:none;fill-rule:evenodd;stroke:#000000;stroke-width:1.0px;stroke-linecap:butt;stroke-linejoin:miter;stroke-opacity:1' />\\n<path class='bond-52 atom-53 atom-52' d='M 266.8,251.6 L 265.6,251.4' style='fill:none;fill-rule:evenodd;stroke:#000000;stroke-width:1.0px;stroke-linecap:butt;stroke-linejoin:miter;stroke-opacity:1' />\\n<path class='bond-52 atom-53 atom-52' d='M 267.8,248.5 L 266.0,248.1' style='fill:none;fill-rule:evenodd;stroke:#000000;stroke-width:1.0px;stroke-linecap:butt;stroke-linejoin:miter;stroke-opacity:1' />\\n<path class='bond-52 atom-53 atom-52' d='M 268.8,245.3 L 266.4,244.8' style='fill:none;fill-rule:evenodd;stroke:#000000;stroke-width:1.0px;stroke-linecap:butt;stroke-linejoin:miter;stroke-opacity:1' />\\n<path class='bond-53 atom-53 atom-54' d='M 264.8,258.0 L 275.8,270.3' style='fill:none;fill-rule:evenodd;stroke:#000000;stroke-width:2.0px;stroke-linecap:butt;stroke-linejoin:miter;stroke-opacity:1' />\\n<path class='bond-54 atom-54 atom-55' d='M 275.8,270.3 L 267.5,284.6' style='fill:none;fill-rule:evenodd;stroke:#000000;stroke-width:2.0px;stroke-linecap:butt;stroke-linejoin:miter;stroke-opacity:1' />\\n<path class='bond-55 atom-55 atom-56' d='M 267.5,284.6 L 251.3,281.1' style='fill:none;fill-rule:evenodd;stroke:#000000;stroke-width:2.0px;stroke-linecap:butt;stroke-linejoin:miter;stroke-opacity:1' />\\n<path class='bond-56 atom-56 atom-57' d='M 251.3,281.1 L 250.7,274.9' style='fill:none;fill-rule:evenodd;stroke:#000000;stroke-width:2.0px;stroke-linecap:butt;stroke-linejoin:miter;stroke-opacity:1' />\\n<path class='bond-56 atom-56 atom-57' d='M 250.7,274.9 L 250.1,268.7' style='fill:none;fill-rule:evenodd;stroke:#0000FF;stroke-width:2.0px;stroke-linecap:butt;stroke-linejoin:miter;stroke-opacity:1' />\\n<path class='bond-57 atom-57 atom-58' d='M 246.4,262.8 L 240.9,259.6' style='fill:none;fill-rule:evenodd;stroke:#0000FF;stroke-width:2.0px;stroke-linecap:butt;stroke-linejoin:miter;stroke-opacity:1' />\\n<path class='bond-57 atom-57 atom-58' d='M 240.9,259.6 L 235.3,256.3' style='fill:none;fill-rule:evenodd;stroke:#000000;stroke-width:2.0px;stroke-linecap:butt;stroke-linejoin:miter;stroke-opacity:1' />\\n<path class='bond-58 atom-58 atom-59' d='M 235.3,256.3 L 221.0,264.6' style='fill:none;fill-rule:evenodd;stroke:#000000;stroke-width:2.0px;stroke-linecap:butt;stroke-linejoin:miter;stroke-opacity:1' />\\n<path class='bond-59 atom-59 atom-60' d='M 218.5,262.7 L 218.1,263.5' style='fill:none;fill-rule:evenodd;stroke:#000000;stroke-width:1.0px;stroke-linecap:butt;stroke-linejoin:miter;stroke-opacity:1' />\\n<path class='bond-59 atom-59 atom-60' d='M 216.1,260.9 L 215.3,262.3' style='fill:none;fill-rule:evenodd;stroke:#000000;stroke-width:1.0px;stroke-linecap:butt;stroke-linejoin:miter;stroke-opacity:1' />\\n<path class='bond-59 atom-59 atom-60' d='M 213.7,259.0 L 212.4,261.1' style='fill:none;fill-rule:evenodd;stroke:#0000FF;stroke-width:1.0px;stroke-linecap:butt;stroke-linejoin:miter;stroke-opacity:1' />\\n<path class='bond-60 atom-60 atom-61' d='M 203.4,258.2 L 197.8,261.4' style='fill:none;fill-rule:evenodd;stroke:#0000FF;stroke-width:2.0px;stroke-linecap:butt;stroke-linejoin:miter;stroke-opacity:1' />\\n<path class='bond-60 atom-60 atom-61' d='M 197.8,261.4 L 192.3,264.6' style='fill:none;fill-rule:evenodd;stroke:#000000;stroke-width:2.0px;stroke-linecap:butt;stroke-linejoin:miter;stroke-opacity:1' />\\n<path class='bond-61 atom-61 atom-62' d='M 192.3,264.6 L 177.9,256.3' style='fill:none;fill-rule:evenodd;stroke:#000000;stroke-width:2.0px;stroke-linecap:butt;stroke-linejoin:miter;stroke-opacity:1' />\\n<path class='bond-62 atom-62 atom-63' d='M 177.9,256.3 L 183.6,240.7' style='fill:none;fill-rule:evenodd;stroke:#000000;stroke-width:2.0px;stroke-linecap:butt;stroke-linejoin:miter;stroke-opacity:1' />\\n<path class='bond-63 atom-63 atom-64' d='M 183.6,240.7 L 167.3,243.6' style='fill:none;fill-rule:evenodd;stroke:#000000;stroke-width:2.0px;stroke-linecap:butt;stroke-linejoin:miter;stroke-opacity:1' />\\n<path class='bond-64 atom-62 atom-65' d='M 177.9,256.3 L 173.9,261.1' style='fill:none;fill-rule:evenodd;stroke:#000000;stroke-width:2.0px;stroke-linecap:butt;stroke-linejoin:miter;stroke-opacity:1' />\\n<path class='bond-64 atom-62 atom-65' d='M 173.9,261.1 L 169.9,265.8' style='fill:none;fill-rule:evenodd;stroke:#33CCCC;stroke-width:2.0px;stroke-linecap:butt;stroke-linejoin:miter;stroke-opacity:1' />\\n<path class='bond-65 atom-61 atom-66' d='M 191.0,263.9 L 191.0,270.5' style='fill:none;fill-rule:evenodd;stroke:#000000;stroke-width:2.0px;stroke-linecap:butt;stroke-linejoin:miter;stroke-opacity:1' />\\n<path class='bond-65 atom-61 atom-66' d='M 191.0,270.5 L 191.0,277.1' style='fill:none;fill-rule:evenodd;stroke:#FF0000;stroke-width:2.0px;stroke-linecap:butt;stroke-linejoin:miter;stroke-opacity:1' />\\n<path class='bond-65 atom-61 atom-66' d='M 193.5,263.9 L 193.5,270.5' style='fill:none;fill-rule:evenodd;stroke:#000000;stroke-width:2.0px;stroke-linecap:butt;stroke-linejoin:miter;stroke-opacity:1' />\\n<path class='bond-65 atom-61 atom-66' d='M 193.5,270.5 L 193.5,277.1' style='fill:none;fill-rule:evenodd;stroke:#FF0000;stroke-width:2.0px;stroke-linecap:butt;stroke-linejoin:miter;stroke-opacity:1' />\\n<path class='bond-66 atom-59 atom-67' d='M 221.0,264.6 L 220.9,281.2' style='fill:none;fill-rule:evenodd;stroke:#000000;stroke-width:2.0px;stroke-linecap:butt;stroke-linejoin:miter;stroke-opacity:1' />\\n<path class='bond-67 atom-67 atom-68' d='M 220.9,281.2 L 237.5,281.2' style='fill:none;fill-rule:evenodd;stroke:#000000;stroke-width:2.0px;stroke-linecap:butt;stroke-linejoin:miter;stroke-opacity:1' />\\n<path class='bond-68 atom-67 atom-69' d='M 220.9,281.2 L 229.2,295.6' style='fill:none;fill-rule:evenodd;stroke:#000000;stroke-width:2.0px;stroke-linecap:butt;stroke-linejoin:miter;stroke-opacity:1' />\\n<path class='bond-69 atom-67 atom-70' d='M 220.9,281.2 L 206.6,289.5' style='fill:none;fill-rule:evenodd;stroke:#000000;stroke-width:2.0px;stroke-linecap:butt;stroke-linejoin:miter;stroke-opacity:1' />\\n<path class='bond-70 atom-58 atom-71' d='M 236.6,257.1 L 236.6,250.5' style='fill:none;fill-rule:evenodd;stroke:#000000;stroke-width:2.0px;stroke-linecap:butt;stroke-linejoin:miter;stroke-opacity:1' />\\n<path class='bond-70 atom-58 atom-71' d='M 236.6,250.5 L 236.6,244.0' style='fill:none;fill-rule:evenodd;stroke:#FF0000;stroke-width:2.0px;stroke-linecap:butt;stroke-linejoin:miter;stroke-opacity:1' />\\n<path class='bond-70 atom-58 atom-71' d='M 234.1,257.1 L 234.1,250.5' style='fill:none;fill-rule:evenodd;stroke:#000000;stroke-width:2.0px;stroke-linecap:butt;stroke-linejoin:miter;stroke-opacity:1' />\\n<path class='bond-70 atom-58 atom-71' d='M 234.1,250.5 L 234.1,244.0' style='fill:none;fill-rule:evenodd;stroke:#FF0000;stroke-width:2.0px;stroke-linecap:butt;stroke-linejoin:miter;stroke-opacity:1' />\\n<path class='bond-71 atom-55 atom-72' d='M 267.5,284.6 L 270.4,289.6 L 269.2,290.1 Z' style='fill:#000000;fill-rule:evenodd;fill-opacity:1;stroke:#000000;stroke-width:0.5px;stroke-linecap:butt;stroke-linejoin:miter;stroke-opacity:1;' />\\n<path class='bond-71 atom-55 atom-72' d='M 270.4,289.6 L 271.0,295.6 L 273.3,294.6 Z' style='fill:#FF0000;fill-rule:evenodd;fill-opacity:1;stroke:#FF0000;stroke-width:0.5px;stroke-linecap:butt;stroke-linejoin:miter;stroke-opacity:1;' />\\n<path class='bond-71 atom-55 atom-72' d='M 270.4,289.6 L 269.2,290.1 L 271.0,295.6 Z' style='fill:#FF0000;fill-rule:evenodd;fill-opacity:1;stroke:#FF0000;stroke-width:0.5px;stroke-linecap:butt;stroke-linejoin:miter;stroke-opacity:1;' />\\n<path class='bond-72 atom-52 atom-73' d='M 269.6,241.3 L 265.1,237.2' style='fill:none;fill-rule:evenodd;stroke:#000000;stroke-width:2.0px;stroke-linecap:butt;stroke-linejoin:miter;stroke-opacity:1' />\\n<path class='bond-72 atom-52 atom-73' d='M 265.1,237.2 L 260.6,233.2' style='fill:none;fill-rule:evenodd;stroke:#FF0000;stroke-width:2.0px;stroke-linecap:butt;stroke-linejoin:miter;stroke-opacity:1' />\\n<path class='bond-72 atom-52 atom-73' d='M 268.0,243.2 L 263.5,239.1' style='fill:none;fill-rule:evenodd;stroke:#000000;stroke-width:2.0px;stroke-linecap:butt;stroke-linejoin:miter;stroke-opacity:1' />\\n<path class='bond-72 atom-52 atom-73' d='M 263.5,239.1 L 258.9,235.0' style='fill:none;fill-rule:evenodd;stroke:#FF0000;stroke-width:2.0px;stroke-linecap:butt;stroke-linejoin:miter;stroke-opacity:1' />\\n<path class='bond-73 atom-21 atom-2' d='M 106.9,173.4 L 110.3,157.1' style='fill:none;fill-rule:evenodd;stroke:#000000;stroke-width:2.0px;stroke-linecap:butt;stroke-linejoin:miter;stroke-opacity:1' />\\n<path class='bond-74 atom-11 atom-6' d='M 50.7,161.4 L 54.2,145.1' style='fill:none;fill-rule:evenodd;stroke:#000000;stroke-width:2.0px;stroke-linecap:butt;stroke-linejoin:miter;stroke-opacity:1' />\\n<path class='bond-74 atom-11 atom-6' d='M 48.6,159.4 L 51.5,146.0' style='fill:none;fill-rule:evenodd;stroke:#000000;stroke-width:2.0px;stroke-linecap:butt;stroke-linejoin:miter;stroke-opacity:1' />\\n<path class='bond-75 atom-14 atom-7' d='M 45.4,117.8 L 41.9,134.0' style='fill:none;fill-rule:evenodd;stroke:#000000;stroke-width:2.0px;stroke-linecap:butt;stroke-linejoin:miter;stroke-opacity:1' />\\n<path class='bond-76 atom-28 atom-23' d='M 138.4,163.1 L 137.1,169.2' style='fill:none;fill-rule:evenodd;stroke:#000000;stroke-width:2.0px;stroke-linecap:butt;stroke-linejoin:miter;stroke-opacity:1' />\\n<path class='bond-76 atom-28 atom-23' d='M 137.1,169.2 L 135.8,175.3' style='fill:none;fill-rule:evenodd;stroke:#0000FF;stroke-width:2.0px;stroke-linecap:butt;stroke-linejoin:miter;stroke-opacity:1' />\\n<path class='bond-77 atom-49 atom-38' d='M 303.2,215.4 L 306.7,199.2' style='fill:none;fill-rule:evenodd;stroke:#000000;stroke-width:2.0px;stroke-linecap:butt;stroke-linejoin:miter;stroke-opacity:1' />\\n<path class='bond-78 atom-45 atom-41' d='M 354.3,188.6 L 352.4,194.3' style='fill:none;fill-rule:evenodd;stroke:#CCCC00;stroke-width:2.0px;stroke-linecap:butt;stroke-linejoin:miter;stroke-opacity:1' />\\n<path class='bond-78 atom-45 atom-41' d='M 352.4,194.3 L 350.5,200.1' style='fill:none;fill-rule:evenodd;stroke:#000000;stroke-width:2.0px;stroke-linecap:butt;stroke-linejoin:miter;stroke-opacity:1' />\\n<path class='bond-79 atom-57 atom-53' d='M 252.9,263.2 L 258.8,260.6' style='fill:none;fill-rule:evenodd;stroke:#0000FF;stroke-width:2.0px;stroke-linecap:butt;stroke-linejoin:miter;stroke-opacity:1' />\\n<path class='bond-79 atom-57 atom-53' d='M 258.8,260.6 L 264.8,258.0' style='fill:none;fill-rule:evenodd;stroke:#000000;stroke-width:2.0px;stroke-linecap:butt;stroke-linejoin:miter;stroke-opacity:1' />\\n<path class='bond-80 atom-64 atom-62' d='M 167.3,243.6 L 177.9,256.3' style='fill:none;fill-rule:evenodd;stroke:#000000;stroke-width:2.0px;stroke-linecap:butt;stroke-linejoin:miter;stroke-opacity:1' />\\n<path d='M 98.6,146.6 L 98.0,146.1 L 97.2,146.3' style='fill:none;stroke:#000000;stroke-width:2.0px;stroke-linecap:butt;stroke-linejoin:miter;stroke-opacity:1;' />\\n<path d='M 26.9,138.9 L 26.1,139.1 L 26.1,139.4' style='fill:none;stroke:#000000;stroke-width:2.0px;stroke-linecap:butt;stroke-linejoin:miter;stroke-opacity:1;' />\\n<path d='M 34.7,166.2 L 35.0,166.4 L 35.8,166.2' style='fill:none;stroke:#000000;stroke-width:2.0px;stroke-linecap:butt;stroke-linejoin:miter;stroke-opacity:1;' />\\n<path d='M 49.9,161.6 L 50.7,161.4 L 50.9,160.6' style='fill:none;stroke:#000000;stroke-width:2.0px;stroke-linecap:butt;stroke-linejoin:miter;stroke-opacity:1;' />\\n<path d='M 73.3,124.7 L 73.5,123.8 L 73.2,123.6' style='fill:none;stroke:#000000;stroke-width:2.0px;stroke-linecap:butt;stroke-linejoin:miter;stroke-opacity:1;' />\\n<path d='M 45.7,117.7 L 45.4,117.8 L 45.2,118.6' style='fill:none;stroke:#000000;stroke-width:2.0px;stroke-linecap:butt;stroke-linejoin:miter;stroke-opacity:1;' />\\n<path d='M 79.0,166.6 L 78.8,167.4 L 79.4,167.9' style='fill:none;stroke:#000000;stroke-width:2.0px;stroke-linecap:butt;stroke-linejoin:miter;stroke-opacity:1;' />\\n<path d='M 118.5,183.9 L 119.1,184.5 L 119.5,184.4' style='fill:none;stroke:#000000;stroke-width:2.0px;stroke-linecap:butt;stroke-linejoin:miter;stroke-opacity:1;' />\\n<path d='M 147.0,190.2 L 147.2,190.4 L 148.0,190.2' style='fill:none;stroke:#000000;stroke-width:2.0px;stroke-linecap:butt;stroke-linejoin:miter;stroke-opacity:1;' />\\n<path d='M 162.2,185.6 L 163.0,185.4 L 163.0,185.1' style='fill:none;stroke:#000000;stroke-width:2.0px;stroke-linecap:butt;stroke-linejoin:miter;stroke-opacity:1;' />\\n<path d='M 154.4,158.3 L 154.1,158.1 L 153.3,158.3' style='fill:none;stroke:#000000;stroke-width:2.0px;stroke-linecap:butt;stroke-linejoin:miter;stroke-opacity:1;' />\\n<path d='M 139.2,162.9 L 138.4,163.1 L 138.3,163.4' style='fill:none;stroke:#000000;stroke-width:2.0px;stroke-linecap:butt;stroke-linejoin:miter;stroke-opacity:1;' />\\n<path d='M 181.9,164.2 L 182.2,164.1 L 182.8,164.6' style='fill:none;stroke:#000000;stroke-width:2.0px;stroke-linecap:butt;stroke-linejoin:miter;stroke-opacity:1;' />\\n<path d='M 193.9,174.6 L 194.5,175.2 L 194.8,175.1' style='fill:none;stroke:#000000;stroke-width:2.0px;stroke-linecap:butt;stroke-linejoin:miter;stroke-opacity:1;' />\\n<path d='M 222.3,181.0 L 222.5,181.2 L 223.3,180.9' style='fill:none;stroke:#000000;stroke-width:2.0px;stroke-linecap:butt;stroke-linejoin:miter;stroke-opacity:1;' />\\n<path d='M 237.5,176.3 L 238.3,176.1 L 238.5,176.3' style='fill:none;stroke:#000000;stroke-width:2.0px;stroke-linecap:butt;stroke-linejoin:miter;stroke-opacity:1;' />\\n<path d='M 266.1,182.2 L 266.4,182.1 L 267.0,182.6' style='fill:none;stroke:#000000;stroke-width:2.0px;stroke-linecap:butt;stroke-linejoin:miter;stroke-opacity:1;' />\\n<path d='M 278.0,192.6 L 278.7,193.2 L 279.0,193.1' style='fill:none;stroke:#000000;stroke-width:2.0px;stroke-linecap:butt;stroke-linejoin:miter;stroke-opacity:1;' />\\n<path d='M 321.7,194.3 L 322.5,194.1 L 323.1,194.6' style='fill:none;stroke:#000000;stroke-width:2.0px;stroke-linecap:butt;stroke-linejoin:miter;stroke-opacity:1;' />\\n<path d='M 372.3,184.6 L 372.2,184.3 L 371.9,184.3' style='fill:none;stroke:#000000;stroke-width:2.0px;stroke-linecap:butt;stroke-linejoin:miter;stroke-opacity:1;' />\\n<path d='M 331.5,220.6 L 331.3,221.4 L 330.5,221.7' style='fill:none;stroke:#000000;stroke-width:2.0px;stroke-linecap:butt;stroke-linejoin:miter;stroke-opacity:1;' />\\n<path d='M 316.3,226.2 L 315.5,226.5 L 314.9,225.9' style='fill:none;stroke:#000000;stroke-width:2.0px;stroke-linecap:butt;stroke-linejoin:miter;stroke-opacity:1;' />\\n<path d='M 288.3,220.2 L 287.5,220.5 L 287.4,220.8' style='fill:none;stroke:#000000;stroke-width:2.0px;stroke-linecap:butt;stroke-linejoin:miter;stroke-opacity:1;' />\\n<path d='M 265.4,258.6 L 264.8,258.0 L 264.5,258.1' style='fill:none;stroke:#000000;stroke-width:2.0px;stroke-linecap:butt;stroke-linejoin:miter;stroke-opacity:1;' />\\n<path d='M 275.3,269.7 L 275.8,270.3 L 275.4,271.0' style='fill:none;stroke:#000000;stroke-width:2.0px;stroke-linecap:butt;stroke-linejoin:miter;stroke-opacity:1;' />\\n<path d='M 267.9,283.9 L 267.5,284.6 L 266.7,284.5' style='fill:none;stroke:#000000;stroke-width:2.0px;stroke-linecap:butt;stroke-linejoin:miter;stroke-opacity:1;' />\\n<path d='M 252.1,281.3 L 251.3,281.1 L 251.3,280.8' style='fill:none;stroke:#000000;stroke-width:2.0px;stroke-linecap:butt;stroke-linejoin:miter;stroke-opacity:1;' />\\n<path d='M 235.6,256.5 L 235.3,256.3 L 234.6,256.8' style='fill:none;stroke:#000000;stroke-width:2.0px;stroke-linecap:butt;stroke-linejoin:miter;stroke-opacity:1;' />\\n<path d='M 221.7,264.2 L 221.0,264.6 L 221.0,265.4' style='fill:none;stroke:#000000;stroke-width:2.0px;stroke-linecap:butt;stroke-linejoin:miter;stroke-opacity:1;' />\\n<path d='M 192.5,264.4 L 192.3,264.6 L 191.6,264.2' style='fill:none;stroke:#000000;stroke-width:2.0px;stroke-linecap:butt;stroke-linejoin:miter;stroke-opacity:1;' />\\n<path d='M 183.3,241.5 L 183.6,240.7 L 182.8,240.9' style='fill:none;stroke:#000000;stroke-width:2.0px;stroke-linecap:butt;stroke-linejoin:miter;stroke-opacity:1;' />\\n<path d='M 168.1,243.5 L 167.3,243.6 L 167.8,244.2' style='fill:none;stroke:#000000;stroke-width:2.0px;stroke-linecap:butt;stroke-linejoin:miter;stroke-opacity:1;' />\\n<path class='atom-1' d='M 122.9 152.1\\nQ 122.9 150.4, 123.7 149.4\\nQ 124.5 148.5, 126.1 148.5\\nQ 127.6 148.5, 128.5 149.4\\nQ 129.3 150.4, 129.3 152.1\\nQ 129.3 153.8, 128.5 154.8\\nQ 127.6 155.7, 126.1 155.7\\nQ 124.5 155.7, 123.7 154.8\\nQ 122.9 153.8, 122.9 152.1\\nM 126.1 154.9\\nQ 127.2 154.9, 127.7 154.2\\nQ 128.3 153.5, 128.3 152.1\\nQ 128.3 150.7, 127.7 150.0\\nQ 127.2 149.3, 126.1 149.3\\nQ 125.0 149.3, 124.4 150.0\\nQ 123.8 150.7, 123.8 152.1\\nQ 123.8 153.5, 124.4 154.2\\nQ 125.0 154.9, 126.1 154.9\\n' fill='#FF0000'/>\\n<path class='atom-9' d='M 21.1 151.8\\nL 23.4 155.6\\nQ 23.6 155.9, 24.0 156.6\\nQ 24.4 157.3, 24.4 157.3\\nL 24.4 151.8\\nL 25.3 151.8\\nL 25.3 158.9\\nL 24.4 158.9\\nL 21.9 154.8\\nQ 21.6 154.3, 21.3 153.8\\nQ 21.0 153.2, 20.9 153.1\\nL 20.9 158.9\\nL 20.0 158.9\\nL 20.0 151.8\\nL 21.1 151.8\\n' fill='#0000FF'/>\\n<path class='atom-13' d='M 59.6 109.3\\nL 61.9 113.0\\nQ 62.1 113.3, 62.5 114.0\\nQ 62.9 114.7, 62.9 114.7\\nL 62.9 109.3\\nL 63.8 109.3\\nL 63.8 116.3\\nL 62.9 116.3\\nL 60.4 112.2\\nQ 60.1 111.7, 59.8 111.2\\nQ 59.5 110.6, 59.4 110.5\\nL 59.4 116.3\\nL 58.5 116.3\\nL 58.5 109.3\\nL 59.6 109.3\\n' fill='#0000FF'/>\\n<path class='atom-15' d='M 29.9 106.8\\nQ 29.9 105.1, 30.7 104.1\\nQ 31.5 103.2, 33.1 103.2\\nQ 34.7 103.2, 35.5 104.1\\nQ 36.3 105.1, 36.3 106.8\\nQ 36.3 108.5, 35.5 109.4\\nQ 34.6 110.4, 33.1 110.4\\nQ 31.6 110.4, 30.7 109.4\\nQ 29.9 108.5, 29.9 106.8\\nM 33.1 109.6\\nQ 34.2 109.6, 34.8 108.9\\nQ 35.3 108.2, 35.3 106.8\\nQ 35.3 105.4, 34.8 104.7\\nQ 34.2 104.0, 33.1 104.0\\nQ 32.0 104.0, 31.4 104.7\\nQ 30.9 105.4, 30.9 106.8\\nQ 30.9 108.2, 31.4 108.9\\nQ 32.0 109.6, 33.1 109.6\\n' fill='#FF0000'/>\\n<path class='atom-19' d='M 84.4 194.7\\nQ 84.4 193.0, 85.2 192.0\\nQ 86.1 191.1, 87.6 191.1\\nQ 89.2 191.1, 90.0 192.0\\nQ 90.9 193.0, 90.9 194.7\\nQ 90.9 196.4, 90.0 197.4\\nQ 89.2 198.3, 87.6 198.3\\nQ 86.1 198.3, 85.2 197.4\\nQ 84.4 196.4, 84.4 194.7\\nM 87.6 197.5\\nQ 88.7 197.5, 89.3 196.8\\nQ 89.9 196.1, 89.9 194.7\\nQ 89.9 193.3, 89.3 192.6\\nQ 88.7 191.9, 87.6 191.9\\nQ 86.6 191.9, 86.0 192.6\\nQ 85.4 193.3, 85.4 194.7\\nQ 85.4 196.1, 86.0 196.8\\nQ 86.6 197.5, 87.6 197.5\\n' fill='#FF0000'/>\\n<path class='atom-23' d='M 133.3 175.9\\nL 135.6 179.6\\nQ 135.9 179.9, 136.2 180.6\\nQ 136.6 181.3, 136.6 181.3\\nL 136.6 175.9\\nL 137.6 175.9\\nL 137.6 182.9\\nL 136.6 182.9\\nL 134.1 178.8\\nQ 133.8 178.3, 133.5 177.8\\nQ 133.2 177.2, 133.1 177.1\\nL 133.1 182.9\\nL 132.2 182.9\\nL 132.2 175.9\\nL 133.3 175.9\\n' fill='#0000FF'/>\\n<path class='atom-26' d='M 164.9 165.6\\nL 167.2 169.4\\nQ 167.4 169.7, 167.8 170.4\\nQ 168.2 171.1, 168.2 171.1\\nL 168.2 165.6\\nL 169.1 165.6\\nL 169.1 172.7\\nL 168.1 172.7\\nL 165.7 168.6\\nQ 165.4 168.1, 165.1 167.6\\nQ 164.8 167.0, 164.7 166.8\\nL 164.7 172.7\\nL 163.8 172.7\\nL 163.8 165.6\\nL 164.9 165.6\\n' fill='#0000FF'/>\\n<path class='atom-31' d='M 207.0 170.1\\nQ 207.0 168.4, 207.9 167.4\\nQ 208.7 166.5, 210.2 166.5\\nQ 211.8 166.5, 212.6 167.4\\nQ 213.5 168.4, 213.5 170.1\\nQ 213.5 171.8, 212.6 172.8\\nQ 211.8 173.7, 210.2 173.7\\nQ 208.7 173.7, 207.9 172.8\\nQ 207.0 171.8, 207.0 170.1\\nM 210.2 172.9\\nQ 211.3 172.9, 211.9 172.2\\nQ 212.5 171.5, 212.5 170.1\\nQ 212.5 168.7, 211.9 168.0\\nQ 211.3 167.3, 210.2 167.3\\nQ 209.2 167.3, 208.6 168.0\\nQ 208.0 168.7, 208.0 170.1\\nQ 208.0 171.5, 208.6 172.2\\nQ 209.2 172.9, 210.2 172.9\\n' fill='#FF0000'/>\\n<path class='atom-34' d='M 247.4 187.2\\nQ 247.4 185.5, 248.2 184.6\\nQ 249.0 183.6, 250.6 183.6\\nQ 252.2 183.6, 253.0 184.6\\nQ 253.8 185.5, 253.8 187.2\\nQ 253.8 188.9, 253.0 189.9\\nQ 252.1 190.8, 250.6 190.8\\nQ 249.0 190.8, 248.2 189.9\\nQ 247.4 188.9, 247.4 187.2\\nM 250.6 190.0\\nQ 251.7 190.0, 252.2 189.3\\nQ 252.8 188.6, 252.8 187.2\\nQ 252.8 185.8, 252.2 185.1\\nQ 251.7 184.4, 250.6 184.4\\nQ 249.5 184.4, 248.9 185.1\\nQ 248.4 185.8, 248.4 187.2\\nQ 248.4 188.6, 248.9 189.3\\nQ 249.5 190.0, 250.6 190.0\\n' fill='#FF0000'/>\\n<path class='atom-37' d='M 291.2 188.1\\nQ 291.2 186.4, 292.0 185.5\\nQ 292.9 184.5, 294.4 184.5\\nQ 296.0 184.5, 296.8 185.5\\nQ 297.6 186.4, 297.6 188.1\\nQ 297.6 189.8, 296.8 190.8\\nQ 296.0 191.7, 294.4 191.7\\nQ 292.9 191.7, 292.0 190.8\\nQ 291.2 189.8, 291.2 188.1\\nM 294.4 190.9\\nQ 295.5 190.9, 296.1 190.2\\nQ 296.7 189.5, 296.7 188.1\\nQ 296.7 186.7, 296.1 186.0\\nQ 295.5 185.3, 294.4 185.3\\nQ 293.3 185.3, 292.8 186.0\\nQ 292.2 186.7, 292.2 188.1\\nQ 292.2 189.5, 292.8 190.2\\nQ 293.3 190.9, 294.4 190.9\\n' fill='#FF0000'/>\\n<path class='atom-43' d='M 375.8 196.6\\nL 378.1 200.3\\nQ 378.3 200.7, 378.7 201.4\\nQ 379.0 202.0, 379.1 202.1\\nL 379.1 196.6\\nL 380.0 196.6\\nL 380.0 203.6\\nL 379.0 203.6\\nL 376.6 199.6\\nQ 376.3 199.1, 376.0 198.5\\nQ 375.7 198.0, 375.6 197.8\\nL 375.6 203.6\\nL 374.7 203.6\\nL 374.7 196.6\\nL 375.8 196.6\\n' fill='#0000FF'/>\\n<path class='atom-45' d='M 353.7 186.8\\nQ 353.8 186.8, 354.1 186.9\\nQ 354.4 187.1, 354.8 187.2\\nQ 355.1 187.2, 355.5 187.2\\nQ 356.2 187.2, 356.6 186.9\\nQ 356.9 186.6, 356.9 186.0\\nQ 356.9 185.6, 356.7 185.4\\nQ 356.6 185.2, 356.3 185.0\\nQ 356.0 184.9, 355.5 184.8\\nQ 354.8 184.6, 354.5 184.4\\nQ 354.1 184.2, 353.8 183.8\\nQ 353.6 183.5, 353.6 182.8\\nQ 353.6 181.9, 354.2 181.4\\nQ 354.8 180.8, 356.0 180.8\\nQ 356.8 180.8, 357.7 181.2\\nL 357.5 182.0\\nQ 356.6 181.6, 356.0 181.6\\nQ 355.3 181.6, 354.9 181.9\\nQ 354.6 182.2, 354.6 182.7\\nQ 354.6 183.1, 354.7 183.3\\nQ 354.9 183.5, 355.2 183.7\\nQ 355.5 183.8, 356.0 183.9\\nQ 356.6 184.1, 357.0 184.3\\nQ 357.4 184.5, 357.7 184.9\\nQ 357.9 185.3, 357.9 186.0\\nQ 357.9 187.0, 357.3 187.5\\nQ 356.6 188.0, 355.5 188.0\\nQ 354.9 188.0, 354.4 187.9\\nQ 354.0 187.8, 353.4 187.5\\nL 353.7 186.8\\n' fill='#CCCC00'/>\\n<path class='atom-51' d='M 282.5 233.2\\nL 284.8 236.9\\nQ 285.0 237.3, 285.4 237.9\\nQ 285.7 238.6, 285.8 238.6\\nL 285.8 233.2\\nL 286.7 233.2\\nL 286.7 240.2\\nL 285.7 240.2\\nL 283.3 236.1\\nQ 283.0 235.6, 282.7 235.1\\nQ 282.4 234.5, 282.3 234.4\\nL 282.3 240.2\\nL 281.4 240.2\\nL 281.4 233.2\\nL 282.5 233.2\\n' fill='#0000FF'/>\\n<path class='atom-51' d='M 288.1 233.2\\nL 289.0 233.2\\nL 289.0 236.1\\nL 292.6 236.1\\nL 292.6 233.2\\nL 293.6 233.2\\nL 293.6 240.2\\nL 292.6 240.2\\nL 292.6 236.9\\nL 289.0 236.9\\nL 289.0 240.2\\nL 288.1 240.2\\nL 288.1 233.2\\n' fill='#0000FF'/>\\n<path class='atom-57' d='M 248.1 261.1\\nL 250.4 264.8\\nQ 250.6 265.2, 251.0 265.9\\nQ 251.3 266.5, 251.4 266.6\\nL 251.4 261.1\\nL 252.3 261.1\\nL 252.3 268.2\\nL 251.3 268.2\\nL 248.9 264.1\\nQ 248.6 263.6, 248.3 263.1\\nQ 248.0 262.5, 247.9 262.3\\nL 247.9 268.2\\nL 247.0 268.2\\nL 247.0 261.1\\nL 248.1 261.1\\n' fill='#0000FF'/>\\n<path class='atom-60' d='M 205.1 252.8\\nL 207.4 256.5\\nQ 207.6 256.9, 208.0 257.6\\nQ 208.3 258.2, 208.4 258.3\\nL 208.4 252.8\\nL 209.3 252.8\\nL 209.3 259.8\\nL 208.3 259.8\\nL 205.9 255.8\\nQ 205.6 255.3, 205.3 254.7\\nQ 205.0 254.2, 204.9 254.0\\nL 204.9 259.8\\nL 204.0 259.8\\nL 204.0 252.8\\nL 205.1 252.8\\n' fill='#0000FF'/>\\n<path class='atom-60' d='M 203.9 245.1\\nL 204.8 245.1\\nL 204.8 248.1\\nL 208.4 248.1\\nL 208.4 245.1\\nL 209.4 245.1\\nL 209.4 252.1\\nL 208.4 252.1\\nL 208.4 248.9\\nL 204.8 248.9\\nL 204.8 252.1\\nL 203.9 252.1\\nL 203.9 245.1\\n' fill='#0000FF'/>\\n<path class='atom-65' d='M 165.2 265.5\\nL 169.4 265.5\\nL 169.4 266.3\\nL 166.1 266.3\\nL 166.1 268.4\\nL 169.0 268.4\\nL 169.0 269.2\\nL 166.1 269.2\\nL 166.1 272.5\\nL 165.2 272.5\\nL 165.2 265.5\\n' fill='#33CCCC'/>\\n<path class='atom-66' d='M 189.0 281.2\\nQ 189.0 279.5, 189.9 278.5\\nQ 190.7 277.6, 192.2 277.6\\nQ 193.8 277.6, 194.6 278.5\\nQ 195.5 279.5, 195.5 281.2\\nQ 195.5 282.9, 194.6 283.9\\nQ 193.8 284.8, 192.2 284.8\\nQ 190.7 284.8, 189.9 283.9\\nQ 189.0 282.9, 189.0 281.2\\nM 192.2 284.0\\nQ 193.3 284.0, 193.9 283.3\\nQ 194.5 282.6, 194.5 281.2\\nQ 194.5 279.8, 193.9 279.1\\nQ 193.3 278.4, 192.2 278.4\\nQ 191.2 278.4, 190.6 279.1\\nQ 190.0 279.8, 190.0 281.2\\nQ 190.0 282.6, 190.6 283.3\\nQ 191.2 284.0, 192.2 284.0\\n' fill='#FF0000'/>\\n<path class='atom-71' d='M 232.1 239.8\\nQ 232.1 238.1, 232.9 237.2\\nQ 233.8 236.2, 235.3 236.2\\nQ 236.9 236.2, 237.7 237.2\\nQ 238.6 238.1, 238.6 239.8\\nQ 238.6 241.5, 237.7 242.5\\nQ 236.9 243.4, 235.3 243.4\\nQ 233.8 243.4, 232.9 242.5\\nQ 232.1 241.5, 232.1 239.8\\nM 235.3 242.6\\nQ 236.4 242.6, 237.0 241.9\\nQ 237.6 241.2, 237.6 239.8\\nQ 237.6 238.4, 237.0 237.7\\nQ 236.4 237.0, 235.3 237.0\\nQ 234.3 237.0, 233.7 237.7\\nQ 233.1 238.4, 233.1 239.8\\nQ 233.1 241.2, 233.7 241.9\\nQ 234.3 242.6, 235.3 242.6\\n' fill='#FF0000'/>\\n<path class='atom-72' d='M 271.0 299.8\\nQ 271.0 298.1, 271.8 297.2\\nQ 272.6 296.2, 274.2 296.2\\nQ 275.7 296.2, 276.6 297.2\\nQ 277.4 298.1, 277.4 299.8\\nQ 277.4 301.5, 276.6 302.5\\nQ 275.7 303.4, 274.2 303.4\\nQ 272.6 303.4, 271.8 302.5\\nQ 271.0 301.5, 271.0 299.8\\nM 274.2 302.6\\nQ 275.3 302.6, 275.8 301.9\\nQ 276.4 301.2, 276.4 299.8\\nQ 276.4 298.4, 275.8 297.7\\nQ 275.3 297.0, 274.2 297.0\\nQ 273.1 297.0, 272.5 297.7\\nQ 271.9 298.4, 271.9 299.8\\nQ 271.9 301.2, 272.5 301.9\\nQ 273.1 302.6, 274.2 302.6\\n' fill='#FF0000'/>\\n<path class='atom-72' d='M 278.5 296.3\\nL 279.5 296.3\\nL 279.5 299.3\\nL 283.1 299.3\\nL 283.1 296.3\\nL 284.0 296.3\\nL 284.0 303.3\\nL 283.1 303.3\\nL 283.1 300.1\\nL 279.5 300.1\\nL 279.5 303.3\\nL 278.5 303.3\\nL 278.5 296.3\\n' fill='#FF0000'/>\\n<path class='atom-73' d='M 252.8 230.7\\nQ 252.8 229.0, 253.6 228.0\\nQ 254.4 227.1, 256.0 227.1\\nQ 257.6 227.1, 258.4 228.0\\nQ 259.2 229.0, 259.2 230.7\\nQ 259.2 232.4, 258.4 233.4\\nQ 257.5 234.3, 256.0 234.3\\nQ 254.4 234.3, 253.6 233.4\\nQ 252.8 232.4, 252.8 230.7\\nM 256.0 233.5\\nQ 257.1 233.5, 257.6 232.8\\nQ 258.2 232.1, 258.2 230.7\\nQ 258.2 229.3, 257.6 228.6\\nQ 257.1 227.9, 256.0 227.9\\nQ 254.9 227.9, 254.3 228.6\\nQ 253.8 229.3, 253.8 230.7\\nQ 253.8 232.1, 254.3 232.8\\nQ 254.9 233.5, 256.0 233.5\\n' fill='#FF0000'/>\\n</svg>\\n\""
      ]
     },
     "execution_count": 17,
     "metadata": {},
     "output_type": "execute_result"
    }
   ],
   "source": [
    "smiles_to_svg(\"COC1=CC(C(C2=C3C=NC=C2)=CN(C3=O)C)=CC(OC)=C1CN4CCN(CC4)CCOCCOCCOC5=CC(C6=C(N=CS6)C)=CC=C5CNC([C@@H]7C[C@H](CN7C([C@@H](NC(C8(CC8)F)=O)C(C)(C)C)=O)O)=O\")"
   ]
  },
  {
   "cell_type": "code",
   "execution_count": 26,
   "metadata": {},
   "outputs": [],
   "source": [
    "def smiles_to_svg(\n",
    "        smiles: str,\n",
    "        save_path: \"/home/user2/kinaseHTGS/\",\n",
    "        width: int = 600,\n",
    "        height: int = 600\n",
    ") -> None:\n",
    "    \"\"\"Converts a SMILES string to an SVG image of the molecule.\n",
    "\n",
    "    :param smiles: A SMILES string.\n",
    "    :param save_path: Path to an SVG file where the molecule image will be saved.\n",
    "    :param width: Width of the SVG image.\n",
    "    :param height: Height of the SVG image.\n",
    "    \"\"\"\n",
    "    # Convert SMILES to Mol\n",
    "    mol = Chem.MolFromSmiles(smiles)\n",
    "\n",
    "    # Convert Mol to SVG\n",
    "    d = Chem.Draw.rdMolDraw2D.MolDraw2DSVG(width, height)\n",
    "    d.DrawMolecule(mol)\n",
    "    d.FinishDrawing()\n",
    "    svg = d.GetDrawingText().encode()\n",
    "\n",
    "    # Save SVG\n",
    "    #save_path.parent.mkdir(parents=True, exist_ok=True)\n",
    "    save_path.write_text(svg)"
   ]
  },
  {
   "cell_type": "code",
   "execution_count": null,
   "metadata": {},
   "outputs": [],
   "source": []
  }
 ],
 "metadata": {
  "kernelspec": {
   "display_name": "Python 3",
   "language": "python",
   "name": "python3"
  },
  "language_info": {
   "codemirror_mode": {
    "name": "ipython",
    "version": 3
   },
   "file_extension": ".py",
   "mimetype": "text/x-python",
   "name": "python",
   "nbconvert_exporter": "python",
   "pygments_lexer": "ipython3",
   "version": "3.12.8"
  }
 },
 "nbformat": 4,
 "nbformat_minor": 2
}
